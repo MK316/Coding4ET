{
  "nbformat": 4,
  "nbformat_minor": 0,
  "metadata": {
    "colab": {
      "private_outputs": true,
      "provenance": [],
      "authorship_tag": "ABX9TyOSrbrkmwxMaxfzbXskniXg",
      "include_colab_link": true
    },
    "kernelspec": {
      "name": "python3",
      "display_name": "Python 3"
    },
    "language_info": {
      "name": "python"
    }
  },
  "cells": [
    {
      "cell_type": "markdown",
      "metadata": {
        "id": "view-in-github",
        "colab_type": "text"
      },
      "source": [
        "<a href=\"https://colab.research.google.com/github/MK316/Coding4ET/blob/main/verb_tense_sample.ipynb\" target=\"_parent\"><img src=\"https://colab.research.google.com/assets/colab-badge.svg\" alt=\"Open In Colab\"/></a>"
      ]
    },
    {
      "cell_type": "markdown",
      "source": [
        "\n",
        "# Verb tense application (Sample)"
      ],
      "metadata": {
        "id": "s9FfqgQqZ3cI"
      }
    },
    {
      "cell_type": "code",
      "source": [
        "!pip install gradio"
      ],
      "metadata": {
        "id": "VmDAr2pvZ8Je"
      },
      "execution_count": null,
      "outputs": []
    },
    {
      "cell_type": "code",
      "execution_count": null,
      "metadata": {
        "id": "l1azhuwwZ266"
      },
      "outputs": [],
      "source": [
        "import pandas as pd\n",
        "import gradio as gr\n",
        "\n",
        "# Create a DataFrame with verb information\n",
        "data = {\n",
        "    'Regularity': ['Irregular', 'Irregular', 'Irregular', 'Irregular', 'Irregular', 'Regular', 'Regular', 'Regular', 'Regular', 'Regular'],\n",
        "    'Present': ['sing', 'go', 'come', 'see', 'take', 'walk', 'want', 'play', 'work', 'clean'],\n",
        "    'Past': ['sang', 'went', 'came', 'saw', 'took', 'walked', 'wanted', 'played', 'worked', 'cleaned'],\n",
        "    'PP': ['sung', 'gone', 'come', 'seen', 'taken', 'walked', 'wanted', 'played', 'worked', 'cleaned']\n",
        "}\n",
        "verbs_df = pd.DataFrame(data)\n",
        "\n",
        "# Function to generate a quiz question\n",
        "def generate_question():\n",
        "    idx = verbs_df.sample().index[0]  # Randomly sample one verb\n",
        "    question = verbs_df.loc[idx, 'Present']\n",
        "    answer = f\"{verbs_df.loc[idx, 'Present']}-{verbs_df.loc[idx, 'Past']}-{verbs_df.loc[idx, 'PP']}\"\n",
        "    return question, answer\n",
        "\n",
        "# Function to check the user's answer\n",
        "def check_answer(user_input, question, answer):\n",
        "    if user_input.strip().lower() == answer.lower():\n",
        "        feedback = \"Good job!\"\n",
        "        next_question, next_answer = generate_question()  # Fetch next question on correct answer\n",
        "    else:\n",
        "        feedback = \"Try again\"\n",
        "        next_question, next_answer = question, answer  # Repeat the same question on incorrect answer\n",
        "\n",
        "    return next_question, next_answer, feedback\n",
        "\n",
        "# Build the Gradio interface\n",
        "with gr.Blocks() as app:\n",
        "    with gr.Row():\n",
        "        question = gr.State(value=\"run\")  # Initialize with an easy example\n",
        "        answer = gr.State(value=\"run-ran-run\")  # Correct answer for initialization\n",
        "\n",
        "    question_label = gr.Textbox(label=\"Type the present, past, and past participle forms of the verb below, separated by hyphens (e.g., be-was/were-been):\", value=question.value, interactive=False)\n",
        "    user_input = gr.Textbox(label=\"Your Answer\")\n",
        "    submit_button = gr.Button(\"Submit\")\n",
        "    feedback_label = gr.Label(value=\"\")\n",
        "\n",
        "    # Logic to handle submission\n",
        "    submit_button.click(\n",
        "        fn=check_answer,\n",
        "        inputs=[user_input, question, answer],\n",
        "        outputs=[question_label, answer, feedback_label]\n",
        "    )\n",
        "\n",
        "app.launch()\n"
      ]
    }
  ]
}