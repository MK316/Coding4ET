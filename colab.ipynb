{
  "nbformat": 4,
  "nbformat_minor": 0,
  "metadata": {
    "colab": {
      "private_outputs": true,
      "provenance": [],
      "authorship_tag": "ABX9TyPXFmwaOaBTpQq7euZ6P1x7",
      "include_colab_link": true
    },
    "kernelspec": {
      "name": "python3",
      "display_name": "Python 3"
    },
    "language_info": {
      "name": "python"
    }
  },
  "cells": [
    {
      "cell_type": "markdown",
      "metadata": {
        "id": "view-in-github",
        "colab_type": "text"
      },
      "source": [
        "<a href=\"https://colab.research.google.com/github/MK316/Coding4ET/blob/main/colab.ipynb\" target=\"_parent\"><img src=\"https://colab.research.google.com/assets/colab-badge.svg\" alt=\"Open In Colab\"/></a>"
      ]
    },
    {
      "cell_type": "markdown",
      "source": [
        "# 💦 Topic: How to use Colab\n",
        "\n",
        "+ Cells: Code vs. Text cells\n",
        "+ How to run codes\n",
        "+ Markdown on text cells"
      ],
      "metadata": {
        "id": "HdUeDwGQA3wm"
      }
    },
    {
      "cell_type": "markdown",
      "source": [
        "## [1] Cells: Code cell vs. Text cell"
      ],
      "metadata": {
        "id": "TZe-UPInBUSE"
      }
    },
    {
      "cell_type": "code",
      "execution_count": null,
      "metadata": {
        "id": "5O00ZSA77aHy"
      },
      "outputs": [],
      "source": [
        "# This is a code cell"
      ]
    },
    {
      "cell_type": "markdown",
      "source": [
        "This is a text cell"
      ],
      "metadata": {
        "id": "lfdsiofEBDBC"
      }
    },
    {
      "cell_type": "markdown",
      "source": [
        "## [2] How to run codes"
      ],
      "metadata": {
        "id": "myeFgUhlBS2z"
      }
    },
    {
      "cell_type": "code",
      "source": [
        "# Code example\n",
        "\n",
        "intro = \"Hello\"\n",
        "myname = \"Mary\"\n",
        "intro"
      ],
      "metadata": {
        "id": "0OwQLkM0BdhK"
      },
      "execution_count": null,
      "outputs": []
    },
    {
      "cell_type": "code",
      "source": [
        "print(\"Hello, Tom!\")"
      ],
      "metadata": {
        "id": "cjfSa3trBjiA"
      },
      "execution_count": null,
      "outputs": []
    },
    {
      "cell_type": "code",
      "source": [
        "print(intro, myname)"
      ],
      "metadata": {
        "id": "FzH91AhyBtux"
      },
      "execution_count": null,
      "outputs": []
    },
    {
      "cell_type": "markdown",
      "source": [
        "### Q: _How to print \"Hello, Mary!\" using print()?_"
      ],
      "metadata": {
        "id": "GXn1Ur92B2Lr"
      }
    },
    {
      "cell_type": "code",
      "source": [],
      "metadata": {
        "id": "YqE9Qe4hCAZe"
      },
      "execution_count": null,
      "outputs": []
    },
    {
      "cell_type": "markdown",
      "source": [
        "## [3] Markdown on colab\n",
        "\n",
        "+ Markup language: e.g., HTML (Hyper Text Markup Language)\n",
        "+ Markdown language: a lightweight markup language with plain text formatting syntax."
      ],
      "metadata": {
        "id": "t8AJ0iY4CEEU"
      }
    },
    {
      "cell_type": "markdown",
      "source": [
        "# This is a Heading 1\n",
        "## This is a Heading 2\n",
        "### This is a Heading 3\n",
        "\n",
        "---\n",
        "**This will look bold**\n",
        "\n",
        "---\n",
        "_This is how you italicize_\n",
        "\n",
        "---\n",
        "\n",
        "**_This will look bold and italized._**\n",
        "\n",
        "---\n",
        "\n",
        "+ Item 1\n",
        "+ Item 2\n",
        "+ Item 3\n",
        "\n",
        "---\n",
        "\n",
        "1. Ordered item 1\n",
        "2. Ordered item 2\n",
        "3. Ordered item 3\n",
        "\n",
        "---\n",
        "\n",
        "This is how you hyperlink\n",
        "\n",
        "😊 💙 [Emoji link](https://gist.github.com/rxaviers/7360908)\n",
        "\n",
        "---\n",
        "\n",
        "This is how you make a table\n",
        "\n",
        "|week|class meeting|content|\n",
        "|--|--|--|\n",
        "|W01|Mar 6|Course overview|\n",
        "|W02|Mar 13|Chapter 1|"
      ],
      "metadata": {
        "id": "EFs8TA0HCvu6"
      }
    },
    {
      "cell_type": "markdown",
      "source": [
        "---\n",
        "The End"
      ],
      "metadata": {
        "id": "Bfv7D35UEXcp"
      }
    }
  ]
}