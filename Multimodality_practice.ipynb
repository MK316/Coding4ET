{
  "nbformat": 4,
  "nbformat_minor": 0,
  "metadata": {
    "colab": {
      "private_outputs": true,
      "provenance": [],
      "authorship_tag": "ABX9TyMj9YST/a2bGhd3423Hk7qM",
      "include_colab_link": true
    },
    "kernelspec": {
      "name": "python3",
      "display_name": "Python 3"
    },
    "language_info": {
      "name": "python"
    }
  },
  "cells": [
    {
      "cell_type": "markdown",
      "metadata": {
        "id": "view-in-github",
        "colab_type": "text"
      },
      "source": [
        "<a href=\"https://colab.research.google.com/github/MK316/Coding4ET/blob/main/Multimodality_practice.ipynb\" target=\"_parent\"><img src=\"https://colab.research.google.com/assets/colab-badge.svg\" alt=\"Open In Colab\"/></a>"
      ]
    },
    {
      "cell_type": "markdown",
      "source": [
        "\n",
        "# 🌿📻💻**Lesson 5. Multimodality DIY**"
      ],
      "metadata": {
        "id": "Tt8nlccnloLQ"
      }
    },
    {
      "cell_type": "markdown",
      "source": [
        "# **1. Text to Text**\n"
      ],
      "metadata": {
        "id": "vbKQAgt9og0f"
      }
    },
    {
      "cell_type": "markdown",
      "source": [
        "### A. Sample"
      ],
      "metadata": {
        "id": "SDJLqTL-pbIM"
      }
    },
    {
      "cell_type": "code",
      "source": [
        "# Simple text to text translation example\n",
        "\n",
        "# English to French dictionary for demonstration\n",
        "english_to_french = {\n",
        "    \"hello\": \"bonjour\",\n",
        "    \"world\": \"monde\",\n",
        "    \"teacher\": \"professeur\",\n",
        "    \"student\": \"étudiant\"\n",
        "}\n",
        "\n",
        "# Input text\n",
        "input_text = \"hello\"\n",
        "translated_text = english_to_french.get(input_text, \"Translation not found\")\n",
        "\n",
        "print(\"English:\", input_text)\n",
        "print(\"French:\", translated_text)\n"
      ],
      "metadata": {
        "id": "_KbCJwp_oj-k"
      },
      "execution_count": null,
      "outputs": []
    },
    {
      "cell_type": "markdown",
      "source": [
        "### B. Application\n",
        "\n",
        "+ **Purpose**: Serves as a simple database to map English words to their French equivalents.\n",
        "+ **Implementation**: A Python dictionary named english_to_french is created where the keys are English words and the values are their French translations.\n",
        "+ **Content**: Contains several word pairings, such as translating \"hello\" to \"bonjour\" and \"world\" to \"monde\"."
      ],
      "metadata": {
        "id": "q0RZyrwyorST"
      }
    },
    {
      "cell_type": "code",
      "source": [
        "#@markdown Translation from English to French (words): hello, world, professor, student\n",
        "\n",
        "# English to French dictionary for demonstration\n",
        "english_to_french = {\n",
        "    \"hello\": \"bonjour\",\n",
        "    \"world\": \"monde\",\n",
        "    \"teacher\": \"professeur\",\n",
        "    \"student\": \"étudiant\"\n",
        "}\n",
        "\n",
        "# Input text\n",
        "input_text = input()\n",
        "translated_text = english_to_french.get(input_text, \"Translation not found\")\n",
        "\n",
        "print(\"English:\", input_text)\n",
        "print(\"French:\", translated_text)\n"
      ],
      "metadata": {
        "cellView": "form",
        "id": "BzRozEBvotvm"
      },
      "execution_count": null,
      "outputs": []
    },
    {
      "cell_type": "markdown",
      "source": [
        "### C. Word quiz application"
      ],
      "metadata": {
        "id": "Bi_TCBuF-d47"
      }
    },
    {
      "cell_type": "code",
      "source": [
        "#@markdown  Simple English Word Quiz for Beginners\n",
        "\n",
        "# Import necessary library\n",
        "import random\n",
        "\n",
        "# Dictionary of words and their meanings\n",
        "word_dict = {\n",
        "    \"ample\": \"more than enough, plentiful\",\n",
        "    \"concur\": \"agree, be of the same opinion\",\n",
        "    \"diligent\": \"hardworking, industrious, not lazy\",\n",
        "    \"enhance\": \"improve, make better or clearer\"\n",
        "}\n",
        "\n",
        "# Function to run the quiz\n",
        "def run_quiz(word_dict):\n",
        "    score = 0\n",
        "    words = list(word_dict.keys())\n",
        "    random.shuffle(words)  # Shuffle the words to change the order each time\n",
        "\n",
        "    # Loop through the words and ask the user to match the correct definition\n",
        "    for word in words:\n",
        "        print(f\"What is the meaning of '{word}'?\")\n",
        "        # Show all possible definitions with a shuffle\n",
        "        definitions = list(word_dict.values())\n",
        "        random.shuffle(definitions)\n",
        "\n",
        "        for idx, definition in enumerate(definitions):\n",
        "            print(f\"{idx + 1}. {definition}\")\n",
        "\n",
        "        user_answer = input(\"Enter the number of the correct definition: \")\n",
        "        if user_answer.isdigit() and definitions[int(user_answer) - 1] == word_dict[word]:\n",
        "            print(\"Correct!\\n\")\n",
        "            score += 1\n",
        "        else:\n",
        "            print(f\"Wrong! The correct answer was: {word_dict[word]}\\n\")\n",
        "\n",
        "    print(f\"Quiz complete! Your score was {score}/{len(words)}.\")\n",
        "\n",
        "# Run the quiz\n",
        "run_quiz(word_dict)\n"
      ],
      "metadata": {
        "cellView": "form",
        "id": "6u4ej3LE-ieH"
      },
      "execution_count": null,
      "outputs": []
    },
    {
      "cell_type": "markdown",
      "source": [
        "## D. More samples"
      ],
      "metadata": {
        "id": "XTC-lNJf-3Qv"
      }
    },
    {
      "cell_type": "code",
      "source": [
        "#@markdown Rock, Paper, Scissors (image)\n",
        "# Import necessary libraries\n",
        "from IPython.display import display, Image\n",
        "import ipywidgets as widgets\n",
        "import random\n",
        "\n",
        "# Upload your images to Colab first\n",
        "# Define a dictionary to hold the image file paths\n",
        "image_files = {\n",
        "    'Rock': 'https://github.com/MK316/Digital-Literacy-Class/raw/main/images/rock.png',\n",
        "    'Paper': 'https://github.com/MK316/Digital-Literacy-Class/raw/main/images/paper.png',\n",
        "    'Scissors': 'https://github.com/MK316/Digital-Literacy-Class/sissors/main/images/scissors.png'\n",
        "}\n",
        "\n",
        "# Function to display an image based on the game's choice\n",
        "def show_image(b):\n",
        "    choice = random.choice(list(image_files.keys()))  # Randomly select rock, paper, or scissors\n",
        "    display(Image(image_files[choice]))\n",
        "    print(f\"Displaying: {choice}\")\n",
        "\n",
        "# Create a button widget\n",
        "play_button = widgets.Button(description=\"Play\")\n",
        "\n",
        "# Bind the button click event to the image display function\n",
        "play_button.on_click(show_image)\n",
        "\n",
        "# Display the button in the output cell\n",
        "display(play_button)\n"
      ],
      "metadata": {
        "cellView": "form",
        "id": "vBlH3Lxp-54W"
      },
      "execution_count": null,
      "outputs": []
    },
    {
      "cell_type": "markdown",
      "source": [
        "### E. Story arrangement"
      ],
      "metadata": {
        "id": "0hwHb79UDujj"
      }
    },
    {
      "cell_type": "code",
      "source": [
        "#@markdown Story Arrangement\n",
        "import gradio as gr\n",
        "import random\n",
        "\n",
        "# Original order of story parts\n",
        "story_parts = [\n",
        "    \"Tom wakes up early.\",\n",
        "    \"He eats breakfast.\",\n",
        "    \"Tom goes to school.\",\n",
        "    \"He studies English.\",\n",
        "    \"Tom returns home.\"\n",
        "]\n",
        "\n",
        "def display_story():\n",
        "    # Shuffle the story parts and return them with indices\n",
        "    shuffled_parts = random.sample(story_parts, len(story_parts))\n",
        "    display_text = \"\\n\".join(f\"{idx + 1}. {part}\" for idx, part in enumerate(shuffled_parts))\n",
        "    return display_text, shuffled_parts\n",
        "\n",
        "def arrange_story(order, shuffled_parts):\n",
        "    try:\n",
        "        # Convert string input into indices\n",
        "        indices = list(map(int, order.split()))\n",
        "        # Validate indices are within the correct range\n",
        "        if any(i < 1 or i > len(shuffled_parts) for i in indices):\n",
        "            return \"Please enter valid indices within the range.\", \"Incorrect\"\n",
        "        # Rearrange story according to user's input\n",
        "        arranged_story = [shuffled_parts[i-1] for i in indices]  # -1 because user inputs are 1-indexed\n",
        "        arranged_text = \"\\n\".join(arranged_story)\n",
        "\n",
        "        # Check if the arranged story matches the original\n",
        "        if arranged_story == story_parts:\n",
        "            feedback = \"😍 Correct! Well done arranging the story in the right order.\"\n",
        "            status = \"Correct\"\n",
        "        else:\n",
        "            feedback = \"😓 That's not quite right. Try again!\"\n",
        "            status = \"Incorrect\"\n",
        "        return arranged_text, feedback, status\n",
        "    except Exception as e:\n",
        "        return f\"Error: {str(e)}\\nPlease enter a space-separated list of numbers.\", \"Error\"\n",
        "\n",
        "# Gradio interface that shows shuffled parts and takes input for arranging them\n",
        "def setup_interface():\n",
        "    display_text, shuffled_parts = display_story()\n",
        "    with gr.Blocks() as demo:\n",
        "        gr.Markdown(\"### Shuffled Story Parts\")\n",
        "        gr.Markdown(display_text)\n",
        "        order_input = gr.Textbox(label=\"Enter the order of the story parts (e.g., 1 2 3 4 5): ❗ The numbers should be space-separated.\")\n",
        "        submit_button = gr.Button(\"Submit\")\n",
        "        output_text = gr.Textbox(label=\"Arranged Story\", interactive=False)\n",
        "        feedback_text = gr.Textbox(label=\"Feedback\", interactive=False, visible=True)\n",
        "\n",
        "        submit_button.click(\n",
        "            fn=lambda order: arrange_story(order, shuffled_parts),\n",
        "            inputs=order_input,\n",
        "            outputs=[output_text, feedback_text]\n",
        "        )\n",
        "\n",
        "    return demo\n",
        "\n",
        "# Launch the interface\n",
        "app = setup_interface()\n",
        "app.launch()\n"
      ],
      "metadata": {
        "cellView": "form",
        "id": "gr-AHVooDwj9"
      },
      "execution_count": null,
      "outputs": []
    },
    {
      "cell_type": "markdown",
      "source": [
        "# **2. Text to Speech**"
      ],
      "metadata": {
        "id": "Y9tJQzNUpedd"
      }
    },
    {
      "cell_type": "code",
      "source": [
        "%%capture\n",
        "!pip install gTTS"
      ],
      "metadata": {
        "id": "aN6Zu3Itpu6s"
      },
      "execution_count": null,
      "outputs": []
    },
    {
      "cell_type": "markdown",
      "source": [
        "### A. Sample"
      ],
      "metadata": {
        "id": "RiczR6OTp4Cf"
      }
    },
    {
      "cell_type": "code",
      "source": [
        "# Install and import necessary library\n",
        "\n",
        "from gtts import gTTS\n",
        "from IPython.display import Audio\n",
        "\n",
        "# Input text\n",
        "text_to_speak = \"Hello students, welcome to our English class!\"\n",
        "\n",
        "# Convert text to speech\n",
        "tts = gTTS(text_to_speak)\n",
        "tts.save('output.mp3')\n",
        "Audio('output.mp3')\n"
      ],
      "metadata": {
        "id": "l3_S2BnjpjQO"
      },
      "execution_count": null,
      "outputs": []
    },
    {
      "cell_type": "markdown",
      "source": [
        "### B. Application"
      ],
      "metadata": {
        "id": "YAtfGurip3a4"
      }
    },
    {
      "cell_type": "code",
      "source": [
        "#@markdown Generate speech as you type.\n",
        "\n",
        "from gtts import gTTS\n",
        "from IPython.display import Audio\n",
        "\n",
        "# Input text\n",
        "text_to_speak = input()\n",
        "\n",
        "# Convert text to speech\n",
        "tts = gTTS(text_to_speak)\n",
        "tts.save('output.mp3')\n",
        "Audio('output.mp3')"
      ],
      "metadata": {
        "id": "5ogJZ3tmp7vF",
        "cellView": "form"
      },
      "execution_count": null,
      "outputs": []
    },
    {
      "cell_type": "markdown",
      "source": [
        "## C. Application using Gradio"
      ],
      "metadata": {
        "id": "Naf_3G-O4-Wh"
      }
    },
    {
      "cell_type": "code",
      "source": [
        "%%capture\n",
        "!pip install gradio"
      ],
      "metadata": {
        "id": "E-OQDm075Fcs"
      },
      "execution_count": null,
      "outputs": []
    },
    {
      "cell_type": "code",
      "source": [
        "#@markdown Gradio app (TTS)\n",
        "import gradio as gr\n",
        "from gtts import gTTS\n",
        "import os\n",
        "\n",
        "def generate_speech(text):\n",
        "    # Convert text to speech\n",
        "    tts = gTTS(text)\n",
        "    # Save speech to a temporary file\n",
        "    filename = \"temp_speech.mp3\"\n",
        "    tts.save(filename)\n",
        "    return filename\n",
        "\n",
        "# Create a Gradio interface\n",
        "iface = gr.Interface(\n",
        "    fn=generate_speech,\n",
        "    inputs=\"text\",\n",
        "    outputs=gr.Audio(label=\"Play Speech\", autoplay=False),\n",
        "    title=\"😍 My TTS: Text to Speech Generator\",\n",
        "    description=\"Type in text and generate speech as you type. Powered by gTTS.\"\n",
        ")\n",
        "\n",
        "# Launch the application\n",
        "iface.launch()\n"
      ],
      "metadata": {
        "cellView": "form",
        "id": "4MA5diFv5BqD"
      },
      "execution_count": null,
      "outputs": []
    },
    {
      "cell_type": "markdown",
      "source": [
        "# **3. Text to Image**\n",
        "\n",
        "* AI tools: ChatGPT (DallE), Midjourney, Bing"
      ],
      "metadata": {
        "id": "fEIhgJqLlt2b"
      }
    },
    {
      "cell_type": "code",
      "source": [
        "# Install and import necessary library\n",
        "!pip install matplotlib"
      ],
      "metadata": {
        "id": "k-VMrMczlkti"
      },
      "execution_count": null,
      "outputs": []
    },
    {
      "cell_type": "markdown",
      "source": [
        "### A. Sample"
      ],
      "metadata": {
        "id": "3femmNhanubG"
      }
    },
    {
      "cell_type": "code",
      "source": [
        "# Install and import necessary library\n",
        "# !pip install matplotlib\n",
        "import matplotlib.pyplot as plt\n",
        "\n",
        "# Input text\n",
        "input_text = \"Welcome to English Learning\"\n",
        "\n",
        "# Create an image with text\n",
        "fig, ax = plt.subplots()\n",
        "ax.text(0.5, 0.5, input_text, fontsize=15, ha='center', color=\"blue\")\n",
        "ax.axis('off')  # Hide the axes\n",
        "plt.show()\n"
      ],
      "metadata": {
        "id": "QJ9h4eT3nt51"
      },
      "execution_count": null,
      "outputs": []
    },
    {
      "cell_type": "markdown",
      "source": [
        "### B. Application"
      ],
      "metadata": {
        "id": "CB6GYVIan7KU"
      }
    },
    {
      "cell_type": "code",
      "execution_count": null,
      "metadata": {
        "cellView": "form",
        "id": "AdRz_j6zljIR"
      },
      "outputs": [],
      "source": [
        "#@markdown Flashcard (image)\n",
        "import matplotlib.pyplot as plt\n",
        "\n",
        "# Create a figure and a single subplot\n",
        "fig, ax = plt.subplots()\n",
        "\n",
        "# Title of the flashcard (Word)\n",
        "ax.text(0.5, 0.7, \"Word: Achieve\", fontsize=18, ha='center', color='purple')\n",
        "\n",
        "# Body of the flashcard (Part of Speech, Definition, Example)\n",
        "body_text = \"Part of Speech: Verb\\n\\nDefinition: To successfully bring about or reach (a desired objective or result) by effort, skill, or courage.\\n\\nExample: After months of hard work, she was able to achieve her goal of learning basic English.\"\n",
        "ax.text(0.1, 0.4, body_text, fontsize=12, ha='left', va='top', wrap=True, color='black')\n",
        "\n",
        "# Hide the axes\n",
        "ax.axis('off')\n",
        "\n",
        "# Save the image\n",
        "plt.savefig('output_image.png')\n",
        "\n",
        "# Display the plot\n",
        "plt.show()\n"
      ]
    },
    {
      "cell_type": "markdown",
      "source": [
        "C. Applicaiton using Gradio"
      ],
      "metadata": {
        "id": "wCDolV8L9U5_"
      }
    },
    {
      "cell_type": "code",
      "source": [
        "#@markdown Gradio app (Flashcard)\n",
        "import matplotlib.pyplot as plt\n",
        "import gradio as gr\n",
        "\n",
        "# Dictionary of words and their details\n",
        "word_details = {\n",
        "    \"achieve\": {\n",
        "        \"part_of_speech\": \"verb\",\n",
        "        \"definition\": \"To successfully bring about or reach (a desired objective or result) by effort, skill, or courage.\",\n",
        "        \"example\": \"After months of hard work, she was able to achieve her goal of learning basic English.\"\n",
        "    },\n",
        "    \"benevolent\": {\n",
        "        \"part_of_speech\": \"adjective\",\n",
        "        \"definition\": \"Well meaning and kindly.\",\n",
        "        \"example\": \"A benevolent smile\"\n",
        "    },\n",
        "    \"conundrum\": {\n",
        "        \"part_of_speech\": \"noun\",\n",
        "        \"definition\": \"A confusing and difficult problem or question.\",\n",
        "        \"example\": \"One of the most difficult conundrums for the experts.\"\n",
        "    },\n",
        "    \"diligent\": {\n",
        "        \"part_of_speech\": \"adjective\",\n",
        "        \"definition\": \"Having or showing care and conscientiousness in one's work or duties.\",\n",
        "        \"example\": \"A diligent student\"\n",
        "    }\n",
        "}\n",
        "\n",
        "def create_flashcard(word):\n",
        "    if word.lower() in word_details:\n",
        "        details = word_details[word.lower()]\n",
        "        fig, ax = plt.subplots()\n",
        "        title = f\"Word: {word.capitalize()}\"\n",
        "        ax.text(0.5, 0.7, title, fontsize=18, ha='center', color='purple')\n",
        "        body_text = f\"Part of Speech: {details['part_of_speech']}\\n\\nDefinition: {details['definition']}\\n\\nExample: {details['example']}\"\n",
        "        ax.text(0.1, 0.4, body_text, fontsize=12, ha='left', va='top', wrap=True, color='black')\n",
        "        ax.axis('off')\n",
        "        plt.close(fig)  # Close the figure to avoid displaying it in the notebook\n",
        "        return fig\n",
        "    else:\n",
        "        return \"Word not found. Please try another.\"\n",
        "\n",
        "# Setting up Gradio interface\n",
        "iface = gr.Interface(\n",
        "    fn=create_flashcard,\n",
        "    inputs=gr.Textbox(label=\"Enter a Word\", placeholder=\"Type a word: e.g., diligent, conundrum, benevolent, achieve...\"),\n",
        "    outputs=gr.Plot(label=\"Flashcard\"),\n",
        "    title=\"Interactive Flashcard Generator\",\n",
        "    description=\"Type in a word to see its definition, part of speech, and an example sentence on a flashcard.\"\n",
        ")\n",
        "\n",
        "iface.launch()\n"
      ],
      "metadata": {
        "cellView": "form",
        "id": "DP2PD7Tl9YJ-"
      },
      "execution_count": null,
      "outputs": []
    },
    {
      "cell_type": "markdown",
      "source": [
        "# **4. Image to Texet**"
      ],
      "metadata": {
        "id": "mmiZfN6grxR-"
      }
    },
    {
      "cell_type": "code",
      "source": [
        "# Install and import necessary libraries\n",
        "%%capture\n",
        "!pip install pytesseract pillow\n",
        "!sudo apt update\n",
        "!sudo apt install tesseract-ocr"
      ],
      "metadata": {
        "id": "weGKXpclr3N0"
      },
      "execution_count": null,
      "outputs": []
    },
    {
      "cell_type": "code",
      "source": [
        "import pytesseract\n",
        "from PIL import Image\n",
        "\n",
        "# Correct path to the local image file\n",
        "image_path = '/content/output_image.png'\n",
        "\n",
        "# Open the image file directly\n",
        "img = Image.open(image_path)\n",
        "\n",
        "# Use pytesseract to extract text\n",
        "extracted_text = pytesseract.image_to_string(img)\n",
        "\n",
        "print(\"Extracted Text:\", extracted_text)\n"
      ],
      "metadata": {
        "id": "wmsRxzaUr0ib"
      },
      "execution_count": null,
      "outputs": []
    },
    {
      "cell_type": "markdown",
      "source": [
        "# **5. Open YoutubeVideo**"
      ],
      "metadata": {
        "id": "tqYlunxnoe5O"
      }
    },
    {
      "cell_type": "code",
      "source": [
        "!pip install pytube"
      ],
      "metadata": {
        "id": "LQAxV47ktQt5"
      },
      "execution_count": null,
      "outputs": []
    },
    {
      "cell_type": "code",
      "source": [
        "from IPython.display import YouTubeVideo\n",
        "\n",
        "# YouTube video ID\n",
        "video_id = 'tYa6OLQHrEc'\n",
        "\n",
        "# Display the YouTube video directly in the notebook\n",
        "display(YouTubeVideo(video_id, width=640, height=480))\n"
      ],
      "metadata": {
        "id": "T1QjoFFfu4-T"
      },
      "execution_count": null,
      "outputs": []
    },
    {
      "cell_type": "markdown",
      "source": [
        "### More flexible and direct control\n",
        "\n",
        "+ autoplay, full screen"
      ],
      "metadata": {
        "id": "0FzVVbZDvddB"
      }
    },
    {
      "cell_type": "code",
      "source": [
        "#@markdown Display with HTML package\n",
        "from IPython.display import HTML\n",
        "\n",
        "# YouTube video ID\n",
        "video_id = 'tYa6OLQHrEc'\n",
        "\n",
        "# Create an HTML string to embed the YouTube video\n",
        "video_html = HTML(f\"\"\"\n",
        "<iframe width=\"640\" height=\"480\" src=\"https://www.youtube.com/embed/{video_id}\" frameborder=\"0\" allow=\"accelerometer; autoplay; clipboard-write; encrypted-media; gyroscope; picture-in-picture\" allowfullscreen></iframe>\n",
        "\"\"\")\n",
        "\n",
        "# Display the embedded YouTube video\n",
        "display(video_html)\n"
      ],
      "metadata": {
        "cellView": "form",
        "id": "1rZBsvZ3uNOg"
      },
      "execution_count": null,
      "outputs": []
    },
    {
      "cell_type": "markdown",
      "source": [
        "# **6. Speech to text**"
      ],
      "metadata": {
        "id": "XOlDr2zPwAB3"
      }
    },
    {
      "cell_type": "code",
      "source": [
        "# Install and import necessary library\n",
        "!pip install speechrecognition\n",
        "!pip install pydub\n",
        "!apt-get install ffmpeg"
      ],
      "metadata": {
        "id": "JUb4pbtOwFuX"
      },
      "execution_count": null,
      "outputs": []
    },
    {
      "cell_type": "markdown",
      "source": [
        "### Convert 'output.mp3' to a readable file\n",
        "\n",
        "+ This is the file generated by TTS"
      ],
      "metadata": {
        "id": "QLRGZFqbypCX"
      }
    },
    {
      "cell_type": "code",
      "source": [
        "#@markdown Generate speech as you type.\n",
        "\n",
        "from gtts import gTTS\n",
        "from IPython.display import Audio\n",
        "\n",
        "# Input text\n",
        "text_to_speak = input()\n",
        "\n",
        "# Convert text to speech\n",
        "tts = gTTS(text_to_speak)\n",
        "tts.save('output.mp3')\n",
        "Audio('output.mp3')"
      ],
      "metadata": {
        "cellView": "form",
        "id": "GUx9d49kzHzk"
      },
      "execution_count": null,
      "outputs": []
    },
    {
      "cell_type": "code",
      "source": [
        "from gtts import gTTS\n",
        "from pydub import AudioSegment\n",
        "from IPython.display import Audio\n",
        "\n",
        "# Convert MP3 to WAV for compatibility with other libraries\n",
        "sound = AudioSegment.from_mp3('output.mp3')\n",
        "sound.export('output.wav', format='wav')\n",
        "\n",
        "# Display the WAV file as an audio widget in the notebook\n",
        "Audio('output.wav')\n"
      ],
      "metadata": {
        "id": "juZN4E6SyX3c"
      },
      "execution_count": null,
      "outputs": []
    },
    {
      "cell_type": "markdown",
      "source": [
        "### Speech Recognition\n",
        "\n",
        "+ file: output.wav (on the left panel)"
      ],
      "metadata": {
        "id": "a5TiJOmCwvbP"
      }
    },
    {
      "cell_type": "code",
      "source": [
        "\n",
        "import speech_recognition as sr\n",
        "\n",
        "# Initialize recognizer\n",
        "recognizer = sr.Recognizer()\n",
        "\n",
        "# Load an audio file (replace 'your_audio_file.wav' with the path to an audio file)\n",
        "audio_file = 'output.wav'  # You need to upload this file to Colab first\n",
        "with sr.AudioFile(audio_file) as source:\n",
        "    audio_data = recognizer.record(source)\n",
        "\n",
        "\n",
        "print(\"*\"*50)\n",
        "# Recognize speech using Google Web Speech API\n",
        "try:\n",
        "    text = recognizer.recognize_google(audio_data)\n",
        "    print(\"Recognized Text:\", text)\n",
        "except sr.UnknownValueError:\n",
        "    print(\"Google Speech Recognition could not understand audio\")\n",
        "except sr.RequestError as e:\n",
        "    print(\"Could not request results from Google Speech Recognition service; {0}\".format(e))\n"
      ],
      "metadata": {
        "id": "wwfRhSliuxoX"
      },
      "execution_count": null,
      "outputs": []
    },
    {
      "cell_type": "markdown",
      "source": [
        "---\n",
        "# **😍DIY Tasks**"
      ],
      "metadata": {
        "id": "e5PRn5HLqqUe"
      }
    },
    {
      "cell_type": "markdown",
      "source": [
        "## [1] Traslation tool\n",
        "\n",
        "+ Change the output text as speech\n"
      ],
      "metadata": {
        "id": "mSvYAS2aq6pY"
      }
    },
    {
      "cell_type": "code",
      "source": [],
      "metadata": {
        "id": "PuYb6vETrZYP"
      },
      "execution_count": null,
      "outputs": []
    },
    {
      "cell_type": "markdown",
      "source": [
        "## [2] Flashcard\n",
        "\n",
        "+ Add the output of the flashcard in the audio format"
      ],
      "metadata": {
        "id": "ScLww6jGrZyU"
      }
    },
    {
      "cell_type": "markdown",
      "source": [
        "---\n",
        "The End"
      ],
      "metadata": {
        "id": "PGqXJB1y7w66"
      }
    }
  ]
}