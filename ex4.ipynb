{
  "nbformat": 4,
  "nbformat_minor": 0,
  "metadata": {
    "colab": {
      "private_outputs": true,
      "provenance": [],
      "authorship_tag": "ABX9TyNX47oQUEAeAvRteQW2Ftnh",
      "include_colab_link": true
    },
    "kernelspec": {
      "name": "python3",
      "display_name": "Python 3"
    },
    "language_info": {
      "name": "python"
    }
  },
  "cells": [
    {
      "cell_type": "markdown",
      "metadata": {
        "id": "view-in-github",
        "colab_type": "text"
      },
      "source": [
        "<a href=\"https://colab.research.google.com/github/MK316/Coding4ET/blob/main/ex4.ipynb\" target=\"_parent\"><img src=\"https://colab.research.google.com/assets/colab-badge.svg\" alt=\"Open In Colab\"/></a>"
      ]
    },
    {
      "cell_type": "markdown",
      "source": [
        "# 🐳 Exercises 4: Data types in Python\n",
        "\n",
        "### Data Types\n",
        "Python has several built-in data types that define the operations possible on them and the storage method. Each data type has its unique characteristics, and knowing how to use them effectively is crucial for any Python programmer."
      ],
      "metadata": {
        "id": "ij8B7_65VTtN"
      }
    },
    {
      "cell_type": "markdown",
      "source": [
        "# ⚪ **4.1 Number**\n",
        "\n",
        "+ Numbers in Python can represent integers (whole numbers), floating-point numbers (decimal numbers), and complex numbers (numbers with a real and imaginary part). They are used for calculations and storing numerical data."
      ],
      "metadata": {
        "id": "wmus8h5kmhpR"
      }
    },
    {
      "cell_type": "markdown",
      "source": [
        "## [1] Calculate the sum of 256 and 344, and print the result.\n",
        "\n",
        "For example,\n",
        "\n",
        "```\n",
        "sum = 256 + 344\n",
        "print(sum)\n",
        "\n",
        "```"
      ],
      "metadata": {
        "id": "8fddso8BVWqJ"
      }
    },
    {
      "cell_type": "markdown",
      "source": [
        "➡️ DIY: Write code below to display 'sum' of 1024 and 37.5"
      ],
      "metadata": {
        "id": "pTZTf5jKXKQJ"
      }
    },
    {
      "cell_type": "code",
      "execution_count": null,
      "metadata": {
        "id": "6ndkrhrMVSps"
      },
      "outputs": [],
      "source": [
        "# DIY\n",
        "\n",
        "sum=1024+37.5\n",
        "print(sum)"
      ]
    },
    {
      "cell_type": "markdown",
      "source": [
        "+ Feedback: This simple addition demonstrates how to perform arithmetic operations with integers."
      ],
      "metadata": {
        "id": "6ogAq5USV0xw"
      }
    },
    {
      "cell_type": "markdown",
      "source": [
        "## [2]  Calculate the product of 12.5 and 4.2.\n",
        "\n",
        "```\n",
        "result = 12.5*4.2\n",
        "print(result)\n",
        "\n",
        "```"
      ],
      "metadata": {
        "id": "aMqvzNFxVuLG"
      }
    },
    {
      "cell_type": "code",
      "source": [
        "# DIY\n"
      ],
      "metadata": {
        "id": "5JaMcJxwWPIr"
      },
      "execution_count": null,
      "outputs": []
    },
    {
      "cell_type": "markdown",
      "source": [
        "+ Feedback: Multiplying floating-point numbers to see how Python handles decimal arithmetic."
      ],
      "metadata": {
        "id": "5hv2u087V8uj"
      }
    },
    {
      "cell_type": "markdown",
      "source": [
        "# ⚪ **4.2 String**\n",
        "\n",
        "+ A string is a sequence of characters used to store and manipulate text. It is enclosed in quotes, such as \"Hello, World!\". Strings can include letters, numbers, symbols, and spaces."
      ],
      "metadata": {
        "id": "sijCU1CcsN-W"
      }
    },
    {
      "cell_type": "markdown",
      "source": [
        "## [3] Create a variable containing \"Hello, world!\" and print it.\n",
        "\n",
        "```\n",
        "greeting = \"Hello, world!\"\n",
        "print(greeting)\n",
        "\n",
        "```"
      ],
      "metadata": {
        "id": "zyeVwnf8WSdX"
      }
    },
    {
      "cell_type": "code",
      "source": [
        "# DIY"
      ],
      "metadata": {
        "id": "H18owXPZWXvI"
      },
      "execution_count": null,
      "outputs": []
    },
    {
      "cell_type": "markdown",
      "source": [
        "+ Feedback: Demonstrates string assignment and output."
      ],
      "metadata": {
        "id": "KNsHovccWY9N"
      }
    },
    {
      "cell_type": "markdown",
      "source": [
        "## [4] Extract \"world\" from the string \"Hello, world!\"."
      ],
      "metadata": {
        "id": "6WgU7D3lnd-f"
      }
    },
    {
      "cell_type": "code",
      "source": [
        "# DIY\n",
        "\n",
        "mytext = \"Hello, world!\"\n",
        "print(mytext[7:12])"
      ],
      "metadata": {
        "id": "UsKPrKC_niX4"
      },
      "execution_count": null,
      "outputs": []
    },
    {
      "cell_type": "markdown",
      "source": [
        "+ Shows how to slice strings using indices to extract specific substrings."
      ],
      "metadata": {
        "id": "I4CPj87hnoOz"
      }
    },
    {
      "cell_type": "markdown",
      "source": [
        "## [5] Convert \"hello world\" to uppercase and split it into two words.\n",
        "\n",
        "```\n",
        "mytext = \"hello world\"\n",
        "print(mytext)\n",
        "\n",
        "```\n",
        "```\n",
        "print(mytext.upper())\n",
        "\n",
        "```\n",
        "```\n",
        "print(mytext.split())\n",
        "```\n",
        "```\n",
        "mytext = \"hello world\"\n",
        "print(mytext.upper().split())\n",
        "\n",
        "```\n"
      ],
      "metadata": {
        "id": "WuV73v5mWb1-"
      }
    },
    {
      "cell_type": "markdown",
      "source": [
        "DIY:\n",
        "\n",
        "1. variable name 'text1', assign value 'learn python'\n",
        "2. print text1 in all upper case\n",
        "3. print text1 as splitted words => This gives a list datatype (with two words)"
      ],
      "metadata": {
        "id": "gULevEa3dEbY"
      }
    },
    {
      "cell_type": "code",
      "source": [
        "# DIY\n",
        "mytext = \"hello world\"\n",
        "print(mytext.upper().split())"
      ],
      "metadata": {
        "id": "zmqU6lKecnZV"
      },
      "execution_count": null,
      "outputs": []
    },
    {
      "cell_type": "code",
      "source": [
        "# DIY\n"
      ],
      "metadata": {
        "id": "GI916DaSWhLU"
      },
      "execution_count": null,
      "outputs": []
    },
    {
      "cell_type": "markdown",
      "source": [
        "+ Feedback: Teaches string manipulation methods like 'upper( )' and 'split( )' for converting cases and splitting strings."
      ],
      "metadata": {
        "id": "sNZ1MLpHWiM3"
      }
    },
    {
      "cell_type": "markdown",
      "source": [
        "# ⚪ **4.3 List**\n",
        "\n",
        "+ A list is an ordered collection of items that can be changed. Items in a list are indexed, allowing for duplicates and can be of mixed data types. For example, '[1, \"apple\", 3.14]' is a list containing an integer, a string, and a float.\n"
      ],
      "metadata": {
        "id": "fAKrY9R8sab-"
      }
    },
    {
      "cell_type": "markdown",
      "source": [
        "## [6] Create a list of the first four prime numbers and print the third one.\n",
        "```\n",
        "primes = [2, 3, 5, 7]\n",
        "print(primes[2])\n",
        "\n",
        "```"
      ],
      "metadata": {
        "id": "PH3uQKrgWuFe"
      }
    },
    {
      "cell_type": "code",
      "source": [
        "# DIY\n"
      ],
      "metadata": {
        "id": "bLoOpyjNWuFe"
      },
      "execution_count": null,
      "outputs": []
    },
    {
      "cell_type": "markdown",
      "source": [
        "+ Feedback: Demonstrates list creation and indexing, which is zero-based."
      ],
      "metadata": {
        "id": "lelop_nkWuFe"
      }
    },
    {
      "cell_type": "markdown",
      "source": [
        "## [7] Append 11 to the prime numbers list and print the updated list.\n",
        "```\n",
        "primes.append(11)\n",
        "print(primes)\n",
        "\n",
        "```"
      ],
      "metadata": {
        "id": "SmiIFEvpW7mS"
      }
    },
    {
      "cell_type": "code",
      "source": [
        "# DIY\n"
      ],
      "metadata": {
        "id": "jNkB-XJEW7mS"
      },
      "execution_count": null,
      "outputs": []
    },
    {
      "cell_type": "markdown",
      "source": [
        "+ Feedback: Shows how to modify lists using methods like 'append()'."
      ],
      "metadata": {
        "id": "wrzsUW0aW7mS"
      }
    },
    {
      "cell_type": "markdown",
      "source": [
        "## [8] Create a list of squares of the first 5 integers using list comprehension.\n",
        "```\n",
        "squares = [x**2 for x in range(1, 6)]\n",
        "print(squares)\n",
        "\n",
        "```"
      ],
      "metadata": {
        "id": "mLgUX1itW8eY"
      }
    },
    {
      "cell_type": "code",
      "source": [
        "# DIY\n",
        "squares = [x**2 for x in range(1, 6)]\n",
        "print(squares)\n"
      ],
      "metadata": {
        "id": "f5USqS1GW8eY"
      },
      "execution_count": null,
      "outputs": []
    },
    {
      "cell_type": "markdown",
      "source": [
        "+ Feedback: Introduces list comprehension as a powerful tool for creating lists dynamically."
      ],
      "metadata": {
        "id": "mXrVFEwkW8eY"
      }
    },
    {
      "cell_type": "markdown",
      "source": [
        "# ⚪ **4.4 Dictionary**\n",
        "\n",
        "+ A dictionary is a collection of key-value pairs, where each key is unique. Dictionaries are used to store data that can be quickly retrieved by a unique identifier. For example, '{\"name\": \"Alice\", \"age\": 25}' uses keys ('name', 'age') to access values (Alice, 25)."
      ],
      "metadata": {
        "id": "4PLuv60Ose1s"
      }
    },
    {
      "cell_type": "markdown",
      "source": [
        "## [9]  Create a dictionary with keys as days and values as their abbreviations. Print the value for \"Monday\".\n",
        "```\n",
        "# Define the dictionary with days and their abbreviations\n",
        "days = {\n",
        "    \"Monday\": \"Mon\",\n",
        "    \"Tuesday\": \"Tue\",\n",
        "    \"Wednesday\": \"Wed\",\n",
        "    \"Thursday\": \"Thu\",\n",
        "    \"Friday\": \"Fri\",\n",
        "    \"Saturday\": \"Sat\",\n",
        "    \"Sunday\": \"Sun\"\n",
        "}\n",
        "```"
      ],
      "metadata": {
        "id": "njemVy3aW9ED"
      }
    },
    {
      "cell_type": "code",
      "source": [
        "# DIY\n",
        "# Define the dictionary with days and their abbreviations\n",
        "days = {\n",
        "    \"Monday\": \"Mon\",\n",
        "    \"Tuesday\": \"Tue\",\n",
        "    \"Wednesday\": \"Wed\",\n",
        "    \"Thursday\": \"Thu\",\n",
        "    \"Friday\": \"Fri\",\n",
        "    \"Saturday\": \"Sat\",\n",
        "    \"Sunday\": \"Sun\"\n",
        "}"
      ],
      "metadata": {
        "id": "mlJDrcmbW9EE"
      },
      "execution_count": null,
      "outputs": []
    },
    {
      "cell_type": "code",
      "source": [
        "# Sample: show the abbreviated form for a day name\n",
        "\n",
        "day_input = input(\"Enter a day: \")\n",
        "print(days[day_input])"
      ],
      "metadata": {
        "id": "PSk7XqIshbqY"
      },
      "execution_count": null,
      "outputs": []
    },
    {
      "cell_type": "markdown",
      "source": [
        "Sample 2:\n",
        "\n",
        "Word abbreviation"
      ],
      "metadata": {
        "id": "f9QzyFavjeTu"
      }
    },
    {
      "cell_type": "code",
      "source": [
        "# Run this code and see how dictionary can be used in an application\n",
        "\n",
        "myvoca = {\n",
        "    \"ASAP\": \"As soon as possible\",\n",
        "    \"FBI\": \"Federal Bureau of Investigation\",\n",
        "    \"DIY\": \"Do it yourself\",\n",
        "    \"RSVP\": \"Répondez s'il vous plaît (French for 'Please respond')\",\n",
        "    \"ETA\": \"Estimated Time of Arrival\"\n",
        "}\n",
        "\n",
        "word_input = input(\"Enter an acronym: e.g., ASAP, FBI, DIY, RSVP, ETA \")\n",
        "print(f\"{word_input} came from {myvoca[word_input]}.\")"
      ],
      "metadata": {
        "id": "YEXpWYyajjE0"
      },
      "execution_count": null,
      "outputs": []
    },
    {
      "cell_type": "markdown",
      "source": [
        "+ Feedback: Teaches dictionary creation and how to access values based on keys."
      ],
      "metadata": {
        "id": "rwA2YjVnW9EE"
      }
    },
    {
      "cell_type": "markdown",
      "source": [
        "## [10] Add \"LOL\" to the dictionary and print the updated dictionary.\n",
        "\n",
        "```\n",
        "myvoca[\"LOL\"] = \"Laugh Out Loud\"\n",
        "print(myvoca)\n",
        "\n",
        "```"
      ],
      "metadata": {
        "id": "IEzCNIh5W9jT"
      }
    },
    {
      "cell_type": "code",
      "source": [
        "# DIY: write code to add \"LOL\" to the dictionary and type 'LOL' to see the result\n",
        "\n",
        "\n",
        "word_input = input(\"Enter an acronym: e.g., ASAP, FBI, DIY, RSVP, ETA \")\n",
        "print(myvoca[word_input])"
      ],
      "metadata": {
        "id": "f4Z2cuo3W9jU"
      },
      "execution_count": null,
      "outputs": []
    },
    {
      "cell_type": "markdown",
      "source": [
        "+ Feedback: Demonstrates how to add new key-value pairs to a dictionary."
      ],
      "metadata": {
        "id": "GN8oHWE9W9jU"
      }
    },
    {
      "cell_type": "markdown",
      "source": [
        "## [11] Create a dictionary with names of animals as keys and their cubs as values using dictionary comprehension.\n",
        "\n",
        "+ Calf - Used for the young of larger animals such as elephants, cows, and whales.\n",
        "+ Kitten - Refers to the young of cats.\n",
        "+ Puppy - Used for the young of dogs.\n",
        "+ Chick - Commonly used for the young of birds, especially chickens.\n",
        "+ Lamb - Refers to the young of sheep."
      ],
      "metadata": {
        "id": "6m57xx7ao3eU"
      }
    },
    {
      "cell_type": "markdown",
      "source": [
        "+ Feedback: Shows dictionary comprehension for creating dictionaries in a concise way.\n"
      ],
      "metadata": {
        "id": "su_kJCa0o_1S"
      }
    },
    {
      "cell_type": "code",
      "source": [
        "# DIY\n"
      ],
      "metadata": {
        "id": "Hm4_S1vNnXvW"
      },
      "execution_count": null,
      "outputs": []
    },
    {
      "cell_type": "markdown",
      "source": [
        "# ⚪ **4.5 Tuple**\n",
        "\n",
        "+ A tuple is similar to a list, but it is immutable (cannot be changed after it is created). It is useful for fixed data sets. Tuples are created by placing items inside parentheses, e.g., (1, 2, 3)."
      ],
      "metadata": {
        "id": "NUgXnwqCpF5F"
      }
    },
    {
      "cell_type": "markdown",
      "source": [
        "## [12] Create a tuple as given below and print the second one.\n",
        "\n",
        "```\n",
        "game = (\"Rock\", \"Paper\", \"Sissors\")\n",
        "print(game[0])\n",
        "```"
      ],
      "metadata": {
        "id": "hL2MkUflpCyG"
      }
    },
    {
      "cell_type": "markdown",
      "source": [
        "=> Write code below to print the second item in 'game'"
      ],
      "metadata": {
        "id": "iMuPsT8KqiKk"
      }
    },
    {
      "cell_type": "code",
      "source": [
        "# DIY\n"
      ],
      "metadata": {
        "id": "RwZEBrUxpcCG"
      },
      "execution_count": null,
      "outputs": []
    },
    {
      "cell_type": "markdown",
      "source": [
        "Application: Rock, paper, scissors game with Random function"
      ],
      "metadata": {
        "id": "CVeqvBP5pnbQ"
      }
    },
    {
      "cell_type": "code",
      "source": [
        "# Sample: Run this code multiple times and see the output\n",
        "import random\n",
        "your_input=input(\"Choose Rock, Paper, or Sissors: \")\n",
        "game = (\"Rock\", \"Paper\", \"Sissors\")\n",
        "print(f\"Your choice: {your_input}\")\n",
        "print(\"AI:\", random.choice(game))"
      ],
      "metadata": {
        "id": "j5qW-A0BpufL"
      },
      "execution_count": null,
      "outputs": []
    },
    {
      "cell_type": "markdown",
      "source": [
        "# ⚪ **4.6 Set**\n",
        "\n",
        "+ A set is an unordered collection of unique items. Sets are useful for storing distinct items and performing operations like unions and intersections. For example, '{1, 2, 3}' is a set of numbers."
      ],
      "metadata": {
        "id": "2gzqgBBQqxKV"
      }
    },
    {
      "cell_type": "markdown",
      "source": [
        "## [13] Create a set of even numbers less than 10 and print it.\n",
        "\n",
        "```\n",
        "evens = set(range(0, 10, 2))\n",
        "print(evens)\n",
        "```"
      ],
      "metadata": {
        "id": "xVLF5DAvqzeZ"
      }
    },
    {
      "cell_type": "code",
      "source": [
        "# DIY\n",
        "evens = set(range(0, 10, 2))\n",
        "print(evens)"
      ],
      "metadata": {
        "id": "fEz2N4JUq8zr"
      },
      "execution_count": null,
      "outputs": []
    },
    {
      "cell_type": "markdown",
      "source": [
        "+ Feedback: Explains set creation and the uniqueness property of sets."
      ],
      "metadata": {
        "id": "EKzXcVl_q9rJ"
      }
    },
    {
      "cell_type": "markdown",
      "source": [
        "# ⚪ **4.7 Boolean, NoneType**\n",
        "\n",
        "+ A Boolean represents one of two values: 'True' or 'False'. This data type is often used to carry out conditional operations, like checking if a statement is correct.\n",
        "\n",
        "+ 'NoneType' has one possible value, 'None', which is used to represent the absence of a value or a null value. It is often used to signify that a variable has no value assigned to it yet."
      ],
      "metadata": {
        "id": "JKSmlEJ8rfsW"
      }
    },
    {
      "cell_type": "markdown",
      "source": [
        "## [18] Check if a list is empty using a Boolean condition and print \"Empty\" or \"Not Empty\".\n",
        "\n",
        "```\n",
        "items = [1, 2, 3]\n",
        "if not items:\n",
        "    print(\"Empty\")\n",
        "else:\n",
        "    print(\"Not Empty\")\n",
        "\n",
        "```"
      ],
      "metadata": {
        "id": "EnJ5XhCXrdVB"
      }
    },
    {
      "cell_type": "code",
      "source": [
        "# DIY (empty output)\n",
        "\n"
      ],
      "metadata": {
        "id": "iie10bzzrnb7"
      },
      "execution_count": null,
      "outputs": []
    },
    {
      "cell_type": "code",
      "source": [
        "# DIY (Not empty output)\n",
        "\n"
      ],
      "metadata": {
        "id": "uyjE4AHts7j3"
      },
      "execution_count": null,
      "outputs": []
    },
    {
      "cell_type": "markdown",
      "source": [
        "+ Feedback: Teaches the use of Booleans in logical conditions."
      ],
      "metadata": {
        "id": "YelXhgsTrong"
      }
    },
    {
      "cell_type": "markdown",
      "source": [
        "These exercises are structured to provide a practical understanding of Python's data types through increasingly complex tasks and valuable feedback on each step to enhance learning efficiency.\n",
        "---\n",
        "# The End"
      ],
      "metadata": {
        "id": "Z88mu9eEY7QR"
      }
    }
  ]
}