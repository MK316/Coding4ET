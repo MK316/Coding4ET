{
  "nbformat": 4,
  "nbformat_minor": 0,
  "metadata": {
    "colab": {
      "private_outputs": true,
      "provenance": [],
      "authorship_tag": "ABX9TyOXw9Klo1oveoKEjF84lp/s",
      "include_colab_link": true
    },
    "kernelspec": {
      "name": "python3",
      "display_name": "Python 3"
    },
    "language_info": {
      "name": "python"
    }
  },
  "cells": [
    {
      "cell_type": "markdown",
      "metadata": {
        "id": "view-in-github",
        "colab_type": "text"
      },
      "source": [
        "<a href=\"https://colab.research.google.com/github/MK316/Coding4ET/blob/main/Lessons/exercise3_2.ipynb\" target=\"_parent\"><img src=\"https://colab.research.google.com/assets/colab-badge.svg\" alt=\"Open In Colab\"/></a>"
      ]
    },
    {
      "cell_type": "markdown",
      "source": [
        "# 3.2 Input and Output"
      ],
      "metadata": {
        "id": "TaFpLfCf2Yyw"
      }
    },
    {
      "cell_type": "markdown",
      "source": [
        "## A. Text file to read from Github\n",
        "\n",
        "+ [sample.txt file](https://github.com/MK316/Coding4ET/tree/main/data)\n",
        "+ Go to the file link and practice how to read a text file using the code below"
      ],
      "metadata": {
        "id": "gHdsygTC2ba4"
      }
    },
    {
      "cell_type": "code",
      "source": [
        "import requests\n",
        "\n",
        "# Link to your raw text file\n",
        "url = \"https://raw.githubusercontent.com/MK316/Coding4ET/main/data/sample.txt\"\n",
        "\n",
        "# Reading the file content\n",
        "mydata = requests.get(url)\n",
        "content = mydata.text\n",
        "\n",
        "# Displaying the content\n",
        "print(content)"
      ],
      "metadata": {
        "id": "9kR2P3fQ3IjK"
      },
      "execution_count": null,
      "outputs": []
    },
    {
      "cell_type": "markdown",
      "source": [
        "## B. Image file to read from Github\n",
        "\n",
        "+ [image file link](https://github.com/MK316/Coding4ET/blob/main/images/logo.png)"
      ],
      "metadata": {
        "id": "qV_KwmPv4yzq"
      }
    },
    {
      "cell_type": "code",
      "source": [
        "from IPython.display import Image, display\n",
        "\n",
        "# URL of your image on GitHub (raw link)\n",
        "url = \"https://raw.githubusercontent.com/MK316/Coding4ET/main/images/logo.png\"\n",
        "\n",
        "# Display the image directly from the URL\n",
        "display(Image(url=url))\n"
      ],
      "metadata": {
        "id": "2NdVzaF95Lx4"
      },
      "execution_count": null,
      "outputs": []
    },
    {
      "cell_type": "markdown",
      "source": [
        "## C. Youtube video to display\n",
        "\n",
        "_Note that some videos do not allow displaying outside of their platform._"
      ],
      "metadata": {
        "id": "lkuWl98MWF-k"
      }
    },
    {
      "cell_type": "markdown",
      "source": [
        "Example link\n",
        "\n",
        "https://www.youtube.com/watch?v=Y8Tko2YC5hA"
      ],
      "metadata": {
        "id": "ytfL3lNLWi2v"
      }
    },
    {
      "cell_type": "code",
      "source": [
        "from IPython.display import YouTubeVideo\n",
        "\n",
        "# Replace with the YouTube video ID\n",
        "video_id = \"Y8Tko2YC5hA\"  # Example video ID (check where this code comes from)\n",
        "\n",
        "# Display the video\n",
        "YouTubeVideo(video_id)\n"
      ],
      "metadata": {
        "id": "uMkkGrOAWKqQ"
      },
      "execution_count": null,
      "outputs": []
    },
    {
      "cell_type": "markdown",
      "source": [
        "### How to set the size of the video display"
      ],
      "metadata": {
        "id": "Sqwfsqd5W3zv"
      }
    },
    {
      "cell_type": "code",
      "source": [
        "from IPython.display import YouTubeVideo\n",
        "\n",
        "# Replace with the YouTube video ID\n",
        "video_id = \"dQw4w9WgXcQ\"  # Example video ID\n",
        "\n",
        "# Display the video with custom size\n",
        "YouTubeVideo(video_id, width=800, height=450)\n"
      ],
      "metadata": {
        "id": "bWvMf_3YW1pA"
      },
      "execution_count": null,
      "outputs": []
    }
  ]
}