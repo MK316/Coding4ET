{
  "nbformat": 4,
  "nbformat_minor": 0,
  "metadata": {
    "colab": {
      "private_outputs": true,
      "provenance": [],
      "authorship_tag": "ABX9TyM/N/hw8VNuBNiYiFYg1CoU",
      "include_colab_link": true
    },
    "kernelspec": {
      "name": "python3",
      "display_name": "Python 3"
    },
    "language_info": {
      "name": "python"
    }
  },
  "cells": [
    {
      "cell_type": "markdown",
      "metadata": {
        "id": "view-in-github",
        "colab_type": "text"
      },
      "source": [
        "<a href=\"https://colab.research.google.com/github/MK316/Coding4ET/blob/main/Lessons/exercise3_2.ipynb\" target=\"_parent\"><img src=\"https://colab.research.google.com/assets/colab-badge.svg\" alt=\"Open In Colab\"/></a>"
      ]
    },
    {
      "cell_type": "markdown",
      "source": [
        "# 3.2 Input and Output"
      ],
      "metadata": {
        "id": "TaFpLfCf2Yyw"
      }
    },
    {
      "cell_type": "markdown",
      "source": [
        "## A. Text file to read from Github\n",
        "\n"
      ],
      "metadata": {
        "id": "gHdsygTC2ba4"
      }
    },
    {
      "cell_type": "code",
      "source": [
        "mytext = \"Hello, Python!\"\n",
        "\n",
        "print(mytext)"
      ],
      "metadata": {
        "id": "EVQ-l-GrX03j"
      },
      "execution_count": null,
      "outputs": []
    },
    {
      "cell_type": "code",
      "source": [
        "# Instruction\n",
        "# 1. Run this code.\n",
        "# 2. Type your name when asked.\n",
        "# 3. Then it will print \"Hello, I'm (the name you've typed).\"\n",
        "\n",
        "\n",
        "myname = input()\n",
        "print(f\"Hello, I'm {myname}.\")"
      ],
      "metadata": {
        "id": "SN0zFqBPYAxK"
      },
      "execution_count": null,
      "outputs": []
    },
    {
      "cell_type": "markdown",
      "source": [
        "+ [sample.txt file](https://github.com/MK316/Coding4ET/tree/main/data) saved in a Github account (MK316).\n",
        "+ Go to the file link and practice how to read a text file using the code below\n",
        "* Below is the code to read a txt file."
      ],
      "metadata": {
        "id": "K3zuFOAWYnkp"
      }
    },
    {
      "cell_type": "code",
      "source": [
        "import requests\n",
        "\n",
        "# Link to your raw text file\n",
        "url = \"https://raw.githubusercontent.com/MK316/Coding4ET/main/data/sample.txt\"\n",
        "\n",
        "# Reading the file content\n",
        "mydata = requests.get(url)\n",
        "content = mydata.text\n",
        "\n",
        "# Displaying the content\n",
        "print(content)"
      ],
      "metadata": {
        "id": "9kR2P3fQ3IjK"
      },
      "execution_count": null,
      "outputs": []
    },
    {
      "cell_type": "markdown",
      "source": [
        "## B. Image file to read from Github\n",
        "\n",
        "+ [image file link](https://github.com/MK316/Coding4ET/blob/main/images/logo.png): this image is saved in a Github repository (MK316)\n",
        "* Below is how you read an image file from Github."
      ],
      "metadata": {
        "id": "qV_KwmPv4yzq"
      }
    },
    {
      "cell_type": "code",
      "source": [
        "from IPython.display import Image, display\n",
        "\n",
        "# URL of your image on GitHub (raw link)\n",
        "url = \"https://raw.githubusercontent.com/MK316/Coding4ET/main/images/logo.png\"\n",
        "\n",
        "# Display the image directly from the URL\n",
        "display(Image(url=url))\n"
      ],
      "metadata": {
        "id": "2NdVzaF95Lx4"
      },
      "execution_count": null,
      "outputs": []
    },
    {
      "cell_type": "markdown",
      "source": [
        "Q1: Describe the image as shown here.  \n",
        "\n",
        "Your answer: (write your answer here)"
      ],
      "metadata": {
        "id": "BwOGVaOgZOQO"
      }
    },
    {
      "cell_type": "markdown",
      "source": [
        "## C. Youtube video to display\n",
        "\n",
        "_Note that some videos do not allow displaying outside of their platform._"
      ],
      "metadata": {
        "id": "lkuWl98MWF-k"
      }
    },
    {
      "cell_type": "markdown",
      "source": [
        "Example link\n",
        "\n",
        "https://www.youtube.com/watch?v=Y8Tko2YC5hA"
      ],
      "metadata": {
        "id": "ytfL3lNLWi2v"
      }
    },
    {
      "cell_type": "code",
      "source": [
        "from IPython.display import YouTubeVideo\n",
        "\n",
        "# Replace with the YouTube video ID\n",
        "video_id = \"Y8Tko2YC5hA\"  # Example video ID (check where this code comes from)\n",
        "\n",
        "# Display the video\n",
        "YouTubeVideo(video_id)\n"
      ],
      "metadata": {
        "id": "uMkkGrOAWKqQ"
      },
      "execution_count": null,
      "outputs": []
    },
    {
      "cell_type": "markdown",
      "source": [
        "Q2: What did you learn from the video? Write briefly 3 things you've learned from the video.\n",
        "\n",
        "Your answer:\n",
        "\n",
        "1. (write your answer here)\n",
        "2. (write your answer here)\n",
        "3. (write your answer here)"
      ],
      "metadata": {
        "id": "uvM5wgG4ZdpY"
      }
    },
    {
      "cell_type": "markdown",
      "source": [
        "### How to set the size of the video display"
      ],
      "metadata": {
        "id": "Sqwfsqd5W3zv"
      }
    },
    {
      "cell_type": "code",
      "source": [
        "from IPython.display import YouTubeVideo\n",
        "\n",
        "# Replace with the YouTube video ID\n",
        "video_id = \"dQw4w9WgXcQ\"  # Example video ID\n",
        "\n",
        "# Display the video with custom size\n",
        "YouTubeVideo(video_id, width=800, height=450)\n"
      ],
      "metadata": {
        "id": "bWvMf_3YW1pA"
      },
      "execution_count": null,
      "outputs": []
    },
    {
      "cell_type": "markdown",
      "source": [
        "---\n",
        "😍 This is the end of the practice. When you're completed, save this page to your Github repository ('Practice').\n",
        "\n",
        "Good job!"
      ],
      "metadata": {
        "id": "Q1X3DT59ZyPJ"
      }
    }
  ]
}