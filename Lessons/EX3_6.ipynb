{
  "nbformat": 4,
  "nbformat_minor": 0,
  "metadata": {
    "colab": {
      "private_outputs": true,
      "provenance": [],
      "authorship_tag": "ABX9TyNba3tMs0vALwS6o07pjAo2",
      "include_colab_link": true
    },
    "kernelspec": {
      "name": "python3",
      "display_name": "Python 3"
    },
    "language_info": {
      "name": "python"
    }
  },
  "cells": [
    {
      "cell_type": "markdown",
      "metadata": {
        "id": "view-in-github",
        "colab_type": "text"
      },
      "source": [
        "<a href=\"https://colab.research.google.com/github/MK316/Coding4ET/blob/main/Lessons/EX3_6.ipynb\" target=\"_parent\"><img src=\"https://colab.research.google.com/assets/colab-badge.svg\" alt=\"Open In Colab\"/></a>"
      ]
    },
    {
      "cell_type": "markdown",
      "source": [
        "# 🐳 Exercises 3.6: Modules, Libraries, and Packages in Python\n",
        "\n",
        "### Part 1: Understanding Modules, Libraries, and Packages\n",
        "In Python, a module is a file containing Python definitions and statements. A library is a collection of modules, and a package is a way of structuring Python’s module namespace by using “dotted module names”. This structure helps manage and organize code, especially as projects become more complex.\n",
        "\n",
        "**Built-in modules:**\n",
        "Built-in modules come pre-installed with Python, like math and datetime. Third-party libraries need to be installed using tools like pip, examples include pandas and numpy.\n",
        "\n",
        "### Part 2: Google Colab Specific Features\n",
        "Google Colab allows you to install libraries that are not available by default and to mount your Google Drive for accessing and storing files."
      ],
      "metadata": {
        "id": "ij8B7_65VTtN"
      }
    },
    {
      "cell_type": "markdown",
      "source": [
        "## 1. **Importing a Module**: Import the 'math' module and use it to calculate the square root of 16.\n",
        "\n",
        "```\n",
        "import math\n",
        "print(math.sqrt(16))\n",
        "\n",
        "```"
      ],
      "metadata": {
        "id": "8fddso8BVWqJ"
      }
    },
    {
      "cell_type": "code",
      "execution_count": null,
      "metadata": {
        "id": "6ndkrhrMVSps"
      },
      "outputs": [],
      "source": [
        "# DIY\n"
      ]
    },
    {
      "cell_type": "markdown",
      "source": [
        "+ Feedback: This exercise shows how to import a built-in module and use one of its functions."
      ],
      "metadata": {
        "id": "6ogAq5USV0xw"
      }
    },
    {
      "cell_type": "markdown",
      "source": [
        "## 2.  **Installing a Library**: Install the 'numpy' library using pip and create a 1D array from a list.\n",
        "\n",
        "```\n",
        "!pip install numpy\n",
        "import numpy as np\n",
        "array = np.array([1, 2, 3, 4, 5])\n",
        "print(array)\n",
        "\n",
        "```"
      ],
      "metadata": {
        "id": "aMqvzNFxVuLG"
      }
    },
    {
      "cell_type": "code",
      "source": [
        "# DIY\n"
      ],
      "metadata": {
        "id": "5JaMcJxwWPIr"
      },
      "execution_count": null,
      "outputs": []
    },
    {
      "cell_type": "markdown",
      "source": [
        "+ Feedback: Demonstrates how to install a third-party library in Colab and use it to create an array."
      ],
      "metadata": {
        "id": "5hv2u087V8uj"
      }
    },
    {
      "cell_type": "markdown",
      "source": [
        "## 3. **Using a Package**: Use the 'datetime' module to print the current date.\n",
        "```\n",
        "import datetime\n",
        "print(datetime.date.today())\n",
        "\n",
        "```"
      ],
      "metadata": {
        "id": "17O3L_DfWA2D"
      }
    },
    {
      "cell_type": "code",
      "source": [
        "# DIY\n"
      ],
      "metadata": {
        "id": "8s0otM8JV8RL"
      },
      "execution_count": null,
      "outputs": []
    },
    {
      "cell_type": "markdown",
      "source": [
        "+ Feedback: Teaches how to use the 'datetime' package to work with date objects."
      ],
      "metadata": {
        "id": "yUMqEoyRWIRW"
      }
    },
    {
      "cell_type": "markdown",
      "source": [
        "## 4. **Mounting Google Drive**: Mount your Google Drive in Colab to access files.\n",
        "\n",
        "```\n",
        "from google.colab import drive\n",
        "drive.mount('/content/drive')\n",
        "\n",
        "```"
      ],
      "metadata": {
        "id": "zyeVwnf8WSdX"
      }
    },
    {
      "cell_type": "code",
      "source": [
        "# DIY"
      ],
      "metadata": {
        "id": "H18owXPZWXvI"
      },
      "execution_count": null,
      "outputs": []
    },
    {
      "cell_type": "markdown",
      "source": [
        "+ Feedback: Shows how to mount Google Drive in your Colab environment, which is essential for accessing and storing files."
      ],
      "metadata": {
        "id": "KNsHovccWY9N"
      }
    },
    {
      "cell_type": "markdown",
      "source": [
        "## 5. **Unmounting Google Drive**: Unmount your Google Drive after you are done.\n",
        "\n",
        "```\n",
        "drive.flush_and_unmount()\n",
        "print(\"Drive unmounted\")\n",
        "\n",
        "```"
      ],
      "metadata": {
        "id": "WuV73v5mWb1-"
      }
    },
    {
      "cell_type": "code",
      "source": [
        "# DIY\n"
      ],
      "metadata": {
        "id": "GI916DaSWhLU"
      },
      "execution_count": null,
      "outputs": []
    },
    {
      "cell_type": "markdown",
      "source": [
        "+ Feedback: Demonstrates how to safely unmount Google Drive, ensuring all changes are saved and the drive is disconnected properly."
      ],
      "metadata": {
        "id": "sNZ1MLpHWiM3"
      }
    },
    {
      "cell_type": "markdown",
      "source": [
        "## 6. **Explore 'pandas'**: Install 'pandas' and use it to read a CSV file from your mounted Google Drive.\n",
        "```\n",
        "!pip install pandas\n",
        "import pandas as pd\n",
        "data = pd.read_csv('/content/drive/My Drive/datafile.csv')\n",
        "print(data.head())\n",
        "\n",
        "```"
      ],
      "metadata": {
        "id": "PH3uQKrgWuFe"
      }
    },
    {
      "cell_type": "code",
      "source": [
        "# DIY\n"
      ],
      "metadata": {
        "id": "bLoOpyjNWuFe"
      },
      "execution_count": null,
      "outputs": []
    },
    {
      "cell_type": "markdown",
      "source": [
        "+ Feedback: Introduces 'pandas', a powerful data manipulation library, and demonstrates reading a file from Google Drive."
      ],
      "metadata": {
        "id": "lelop_nkWuFe"
      }
    },
    {
      "cell_type": "markdown",
      "source": [
        "## 7. **Using 'random' module**: Use the 'random' module to generate a random number between 1 and 10.\n",
        "```\n",
        "import random\n",
        "print(random.randint(1, 10))\n",
        "\n",
        "```"
      ],
      "metadata": {
        "id": "SmiIFEvpW7mS"
      }
    },
    {
      "cell_type": "code",
      "source": [
        "# DIY\n"
      ],
      "metadata": {
        "id": "jNkB-XJEW7mS"
      },
      "execution_count": null,
      "outputs": []
    },
    {
      "cell_type": "markdown",
      "source": [
        "+ Feedback: Teaches how to use the built-in 'random' module to generate random numbers, useful for simulations or testing."
      ],
      "metadata": {
        "id": "wrzsUW0aW7mS"
      }
    },
    {
      "cell_type": "markdown",
      "source": [
        "## 8. **Explore 'matplotlib'**: Plot a simple line graph using 'matplotlib' to visualize a list of numbers.\n",
        "```\n",
        "!pip install matplotlib\n",
        "import matplotlib.pyplot as plt\n",
        "plt.plot([1, 2, 3, 4, 5], [1, 4, 9, 16, 25])  # Squares of the list numbers\n",
        "plt.show()\n",
        "\n",
        "```"
      ],
      "metadata": {
        "id": "mLgUX1itW8eY"
      }
    },
    {
      "cell_type": "code",
      "source": [
        "# DIY\n"
      ],
      "metadata": {
        "id": "f5USqS1GW8eY"
      },
      "execution_count": null,
      "outputs": []
    },
    {
      "cell_type": "markdown",
      "source": [
        "+ Feedback: Introduces basic plotting with 'matplotlib', a widely used library for creating visualizations in Python."
      ],
      "metadata": {
        "id": "mXrVFEwkW8eY"
      }
    },
    {
      "cell_type": "markdown",
      "source": [
        "## 9.  **Create a function to use in a module**: Create a Python file in Colab, define a function that doubles a number, and then import this function to use.\n",
        "```\n",
        "%%writefile mymodule.py\n",
        "def double(x):\n",
        "    return x * 2\n",
        "```\n",
        "```\n",
        "from mymodule import double\n",
        "print(double(4))\n",
        "\n",
        "```"
      ],
      "metadata": {
        "id": "njemVy3aW9ED"
      }
    },
    {
      "cell_type": "code",
      "source": [
        "# DIY\n"
      ],
      "metadata": {
        "id": "mlJDrcmbW9EE"
      },
      "execution_count": null,
      "outputs": []
    },
    {
      "cell_type": "markdown",
      "source": [
        "+ Feedback: Shows how to write a custom module in Colab and use a function from it."
      ],
      "metadata": {
        "id": "rwA2YjVnW9EE"
      }
    },
    {
      "cell_type": "markdown",
      "source": [
        "## 10. **Document and explore a library**: Find documentation for the **'requests'** library online and write a simple script to fetch and print the content of a webpage.\n",
        "\n",
        "```\n",
        "!pip install requests\n",
        "import requests\n",
        "\n",
        "response = requests.get('https://www.example.com')\n",
        "print(response.text)\n",
        "\n",
        "```"
      ],
      "metadata": {
        "id": "IEzCNIh5W9jT"
      }
    },
    {
      "cell_type": "code",
      "source": [
        "# DIY\n"
      ],
      "metadata": {
        "id": "f4Z2cuo3W9jU"
      },
      "execution_count": null,
      "outputs": []
    },
    {
      "cell_type": "markdown",
      "source": [
        "+ Feedback: Encourages exploring external documentation and using a library for web requests, enhancing understanding of HTTP and APIs."
      ],
      "metadata": {
        "id": "GN8oHWE9W9jU"
      }
    },
    {
      "cell_type": "markdown",
      "source": [
        "---\n",
        "These exercises cover essential aspects of using modules, libraries, and packages in Python, focusing on practical applications and the integration of external resources in a Google Colab environment.\n",
        "---\n",
        "The End"
      ],
      "metadata": {
        "id": "Z88mu9eEY7QR"
      }
    }
  ]
}