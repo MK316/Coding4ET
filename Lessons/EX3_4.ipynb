{
  "nbformat": 4,
  "nbformat_minor": 0,
  "metadata": {
    "colab": {
      "private_outputs": true,
      "provenance": [],
      "authorship_tag": "ABX9TyPW5/wQOqu0sP9w6P4cb80q",
      "include_colab_link": true
    },
    "kernelspec": {
      "name": "python3",
      "display_name": "Python 3"
    },
    "language_info": {
      "name": "python"
    }
  },
  "cells": [
    {
      "cell_type": "markdown",
      "metadata": {
        "id": "view-in-github",
        "colab_type": "text"
      },
      "source": [
        "<a href=\"https://colab.research.google.com/github/MK316/Coding4ET/blob/main/Lessons/EX3_4.ipynb\" target=\"_parent\"><img src=\"https://colab.research.google.com/assets/colab-badge.svg\" alt=\"Open In Colab\"/></a>"
      ]
    },
    {
      "cell_type": "markdown",
      "source": [
        "# 🐳 Exercises 3.4: Operators"
      ],
      "metadata": {
        "id": "ij8B7_65VTtN"
      }
    },
    {
      "cell_type": "markdown",
      "source": [
        "## 1. Use the addition operator to add '50' and '25', then print the result.\n",
        "\n",
        "```\n",
        "print(50 + 25)\n",
        "\n",
        "```"
      ],
      "metadata": {
        "id": "8fddso8BVWqJ"
      }
    },
    {
      "cell_type": "code",
      "execution_count": null,
      "metadata": {
        "id": "6ndkrhrMVSps"
      },
      "outputs": [],
      "source": [
        "# DIY\n"
      ]
    },
    {
      "cell_type": "markdown",
      "source": [
        "+ Feedback: This demonstrates the use of the + operator for addition, which sums up numbers."
      ],
      "metadata": {
        "id": "6ogAq5USV0xw"
      }
    },
    {
      "cell_type": "markdown",
      "source": [
        "## 2. Subtract '10' from '100' using the subtraction operator and print the outcome.\n",
        "\n",
        "```\n",
        "result = 100 - 10\n",
        "print(result)\n",
        "\n",
        "```"
      ],
      "metadata": {
        "id": "aMqvzNFxVuLG"
      }
    },
    {
      "cell_type": "code",
      "source": [
        "# DIY\n"
      ],
      "metadata": {
        "id": "5JaMcJxwWPIr"
      },
      "execution_count": null,
      "outputs": []
    },
    {
      "cell_type": "markdown",
      "source": [
        "+ Feedback: The ' - ' operator is used for subtraction, deducting the right operand from the left operand."
      ],
      "metadata": {
        "id": "5hv2u087V8uj"
      }
    },
    {
      "cell_type": "markdown",
      "source": [
        "## 3. Multiply two numbers '7' and '8' using the multiplication operator.\n",
        "\n",
        "```\n",
        "product = 7 * 8\n",
        "print(product)\n",
        "\n",
        "```"
      ],
      "metadata": {
        "id": "17O3L_DfWA2D"
      }
    },
    {
      "cell_type": "code",
      "source": [
        "# DIY\n"
      ],
      "metadata": {
        "id": "8s0otM8JV8RL"
      },
      "execution_count": null,
      "outputs": []
    },
    {
      "cell_type": "markdown",
      "source": [
        "+ Feedback: The '*' operator performs multiplication, multiplying the two operands."
      ],
      "metadata": {
        "id": "yUMqEoyRWIRW"
      }
    },
    {
      "cell_type": "markdown",
      "source": [
        "## 4. Divide '144' by '12' and print the result using the division operator.\n",
        "\n",
        "```\n",
        "division_result = 144 / 12\n",
        "print(division_result)\n",
        "\n",
        "```"
      ],
      "metadata": {
        "id": "zyeVwnf8WSdX"
      }
    },
    {
      "cell_type": "code",
      "source": [
        "# DIY"
      ],
      "metadata": {
        "id": "H18owXPZWXvI"
      },
      "execution_count": null,
      "outputs": []
    },
    {
      "cell_type": "markdown",
      "source": [
        "+ Feedback: The ' / ' operator performs division, resulting in a floating-point value."
      ],
      "metadata": {
        "id": "KNsHovccWY9N"
      }
    },
    {
      "cell_type": "markdown",
      "source": [
        "## 5. Use the modulus operator to find the remainder of '15' divided by '4'.\n",
        "\n",
        "```\n",
        "remainder = 15 % 4\n",
        "print(remainder)\n",
        "\n",
        "```"
      ],
      "metadata": {
        "id": "WuV73v5mWb1-"
      }
    },
    {
      "cell_type": "code",
      "source": [
        "# DIY\n"
      ],
      "metadata": {
        "id": "GI916DaSWhLU"
      },
      "execution_count": null,
      "outputs": []
    },
    {
      "cell_type": "markdown",
      "source": [
        "+ Feedback: The '%' operator returns the remainder of a division, useful for determining even or odd status."
      ],
      "metadata": {
        "id": "sNZ1MLpHWiM3"
      }
    },
    {
      "cell_type": "markdown",
      "source": [
        "## 6. Raise 2 to the power of 3 using the exponentiation operator and print the result.\n",
        "```\n",
        "power = 2 ** 3\n",
        "print(power)\n",
        "\n",
        "```"
      ],
      "metadata": {
        "id": "PH3uQKrgWuFe"
      }
    },
    {
      "cell_type": "code",
      "source": [
        "# DIY\n"
      ],
      "metadata": {
        "id": "bLoOpyjNWuFe"
      },
      "execution_count": null,
      "outputs": []
    },
    {
      "cell_type": "markdown",
      "source": [
        "+ Feedback: The '**' operator is used for exponentiation, raising the first operand to the power of the second."
      ],
      "metadata": {
        "id": "lelop_nkWuFe"
      }
    },
    {
      "cell_type": "markdown",
      "source": [
        "## 7. Use the equality operator to check if 10 is equal to 20.\n",
        "```\n",
        "is_equal = 10 == 20\n",
        "print(is_equal)\n",
        "\n",
        "```"
      ],
      "metadata": {
        "id": "SmiIFEvpW7mS"
      }
    },
    {
      "cell_type": "code",
      "source": [
        "# DIY\n"
      ],
      "metadata": {
        "id": "jNkB-XJEW7mS"
      },
      "execution_count": null,
      "outputs": []
    },
    {
      "cell_type": "markdown",
      "source": [
        "+ Feedback: The '==' operator checks if two values are equal, returning 'True' or 'False'."
      ],
      "metadata": {
        "id": "wrzsUW0aW7mS"
      }
    },
    {
      "cell_type": "markdown",
      "source": [
        "## 8. Compare '18' and '18' using the greater than operator.\n",
        "```\n",
        "is_greater = 18 > 18\n",
        "print(is_greater)\n",
        "\n",
        "```"
      ],
      "metadata": {
        "id": "mLgUX1itW8eY"
      }
    },
    {
      "cell_type": "code",
      "source": [
        "# DIY\n"
      ],
      "metadata": {
        "id": "f5USqS1GW8eY"
      },
      "execution_count": null,
      "outputs": []
    },
    {
      "cell_type": "markdown",
      "source": [
        "+ Feedback: The ' > ' operator compares two numbers, returning 'False' in this case since 18 is not greater than 18."
      ],
      "metadata": {
        "id": "mXrVFEwkW8eY"
      }
    },
    {
      "cell_type": "markdown",
      "source": [
        "## 9.  Combine the use of logical operators 'and', 'or', and 'not' to evaluate 'True and not False or False'.\n",
        "```\n",
        "result = True and not False or False\n",
        "print(result)\n",
        "\n",
        "```"
      ],
      "metadata": {
        "id": "njemVy3aW9ED"
      }
    },
    {
      "cell_type": "code",
      "source": [
        "# DIY\n"
      ],
      "metadata": {
        "id": "mlJDrcmbW9EE"
      },
      "execution_count": null,
      "outputs": []
    },
    {
      "cell_type": "markdown",
      "source": [
        "+ Feedback: This exercise shows how to use logical operators to combine and manipulate Boolean values."
      ],
      "metadata": {
        "id": "rwA2YjVnW9EE"
      }
    },
    {
      "cell_type": "markdown",
      "source": [
        "## 10. Assign '50' to a variable 'x' and increment 'x' by '5' using the addition assignment operator.\n",
        "\n",
        "```\n",
        "x = 50\n",
        "x += 5  # Same as x = x + 5\n",
        "print(x)\n",
        "\n",
        "```"
      ],
      "metadata": {
        "id": "IEzCNIh5W9jT"
      }
    },
    {
      "cell_type": "code",
      "source": [
        "# DIY\n"
      ],
      "metadata": {
        "id": "f4Z2cuo3W9jU"
      },
      "execution_count": null,
      "outputs": []
    },
    {
      "cell_type": "markdown",
      "source": [
        "+ Feedback: The '+=' operator is a shortcut to add a value to a variable and then reassign the sum to that variable."
      ],
      "metadata": {
        "id": "GN8oHWE9W9jU"
      }
    },
    {
      "cell_type": "markdown",
      "source": [
        "---\n",
        "The End"
      ],
      "metadata": {
        "id": "Z88mu9eEY7QR"
      }
    }
  ]
}