{
  "nbformat": 4,
  "nbformat_minor": 0,
  "metadata": {
    "colab": {
      "private_outputs": true,
      "provenance": [],
      "authorship_tag": "ABX9TyO6I8ZhQVQKsJImlUU6MPu3",
      "include_colab_link": true
    },
    "kernelspec": {
      "name": "python3",
      "display_name": "Python 3"
    },
    "language_info": {
      "name": "python"
    }
  },
  "cells": [
    {
      "cell_type": "markdown",
      "metadata": {
        "id": "view-in-github",
        "colab_type": "text"
      },
      "source": [
        "<a href=\"https://colab.research.google.com/github/MK316/Coding4ET/blob/main/Lessons/EX3_3.ipynb\" target=\"_parent\"><img src=\"https://colab.research.google.com/assets/colab-badge.svg\" alt=\"Open In Colab\"/></a>"
      ]
    },
    {
      "cell_type": "markdown",
      "source": [
        "# 🐳 Exercises: Variables"
      ],
      "metadata": {
        "id": "ij8B7_65VTtN"
      }
    },
    {
      "cell_type": "markdown",
      "source": [
        "## 1. Create a variable named 'student' and assign the string \"John Doe\" to it. Print the variable.\n",
        "\n",
        "```\n",
        "student = \"John Doe\"\n",
        "print(student)\n",
        "```"
      ],
      "metadata": {
        "id": "8fddso8BVWqJ"
      }
    },
    {
      "cell_type": "code",
      "execution_count": null,
      "metadata": {
        "id": "6ndkrhrMVSps"
      },
      "outputs": [],
      "source": [
        "# DIY\n"
      ]
    },
    {
      "cell_type": "markdown",
      "source": [
        "+ Feedback: This exercise demonstrates how to assign a string to a variable and print it. Remember that string values must be enclosed in quotes."
      ],
      "metadata": {
        "id": "6ogAq5USV0xw"
      }
    },
    {
      "cell_type": "markdown",
      "source": [
        "## 2. Define two variables, age and name, assigning your 'age' and 'name' to them, respectively. Print both variables.\n",
        "\n",
        "```\n",
        "age = 25\n",
        "name = \"Alice\"\n",
        "print(name, age)\n",
        "```"
      ],
      "metadata": {
        "id": "aMqvzNFxVuLG"
      }
    },
    {
      "cell_type": "code",
      "source": [
        "# DIY\n"
      ],
      "metadata": {
        "id": "5JaMcJxwWPIr"
      },
      "execution_count": null,
      "outputs": []
    },
    {
      "cell_type": "markdown",
      "source": [
        "+ Feedback: You've learned how to assign multiple variables and print them together. Variables can store different data types, like strings and integers."
      ],
      "metadata": {
        "id": "5hv2u087V8uj"
      }
    },
    {
      "cell_type": "markdown",
      "source": [
        "## 3. What happens if you try to access a variable that has not been defined? Try printing a variable 'color' without defining it.\n",
        "\n",
        "```\n",
        "print(color)\n",
        "```"
      ],
      "metadata": {
        "id": "17O3L_DfWA2D"
      }
    },
    {
      "cell_type": "code",
      "source": [
        "# DIY\n"
      ],
      "metadata": {
        "id": "8s0otM8JV8RL"
      },
      "execution_count": null,
      "outputs": []
    },
    {
      "cell_type": "markdown",
      "source": [
        "+ Feedback: This will raise a 'NameError' because the variable 'color' was not defined before it was referenced."
      ],
      "metadata": {
        "id": "yUMqEoyRWIRW"
      }
    },
    {
      "cell_type": "markdown",
      "source": [
        "## 4. Attempt to create a variable starting with a number, like '1name'. What error do you get?\n",
        "\n",
        "```\n",
        "1name = \"Bob\"\n",
        "```"
      ],
      "metadata": {
        "id": "zyeVwnf8WSdX"
      }
    },
    {
      "cell_type": "code",
      "source": [
        "# DIY"
      ],
      "metadata": {
        "id": "H18owXPZWXvI"
      },
      "execution_count": null,
      "outputs": []
    },
    {
      "cell_type": "markdown",
      "source": [
        "+ Feedback: Python will raise a 'SyntaxError' because variable names cannot start with a number."
      ],
      "metadata": {
        "id": "KNsHovccWY9N"
      }
    },
    {
      "cell_type": "markdown",
      "source": [
        "## 5. Create a variable 'has_Pets' and set it to 'True'. Print the variable.\n",
        "\n",
        "```\n",
        "has_Pets = True\n",
        "print(has_Pets)\n",
        "```"
      ],
      "metadata": {
        "id": "WuV73v5mWb1-"
      }
    },
    {
      "cell_type": "code",
      "source": [
        "# DIY\n"
      ],
      "metadata": {
        "id": "GI916DaSWhLU"
      },
      "execution_count": null,
      "outputs": []
    },
    {
      "cell_type": "markdown",
      "source": [
        "+ Feedback: This shows how to use Boolean values ('True' or 'False') in Python. They are useful for conditions."
      ],
      "metadata": {
        "id": "sNZ1MLpHWiM3"
      }
    },
    {
      "cell_type": "markdown",
      "source": [
        "## 6. Assign the value '100' to a variable called 'score', then print it.\n",
        "```\n",
        "score = 100\n",
        "print(score)\n",
        "```"
      ],
      "metadata": {
        "id": "PH3uQKrgWuFe"
      }
    },
    {
      "cell_type": "code",
      "source": [
        "# DIY\n"
      ],
      "metadata": {
        "id": "bLoOpyjNWuFe"
      },
      "execution_count": null,
      "outputs": []
    },
    {
      "cell_type": "markdown",
      "source": [
        "+ Feedback: You've successfully assigned an integer to a variable. Integers are useful for counts or scores."
      ],
      "metadata": {
        "id": "lelop_nkWuFe"
      }
    },
    {
      "cell_type": "markdown",
      "source": [
        "## 7. Try creating a variable with a special character, such as 'my-variable'. What error occurs?\n",
        "```\n",
        "my-variable = 50\n",
        "```"
      ],
      "metadata": {
        "id": "SmiIFEvpW7mS"
      }
    },
    {
      "cell_type": "code",
      "source": [
        "# DIY\n"
      ],
      "metadata": {
        "id": "jNkB-XJEW7mS"
      },
      "execution_count": null,
      "outputs": []
    },
    {
      "cell_type": "markdown",
      "source": [
        "+ Feedback: Python will throw a SyntaxError. Variable names cannot include special characters like dashes."
      ],
      "metadata": {
        "id": "wrzsUW0aW7mS"
      }
    },
    {
      "cell_type": "markdown",
      "source": [
        "## 8. Define a variable x with value 10 and another variable y with value 20. Print their sum.\n",
        "```\n",
        "x = 10\n",
        "y = 20\n",
        "print(x + y)\n",
        "```"
      ],
      "metadata": {
        "id": "mLgUX1itW8eY"
      }
    },
    {
      "cell_type": "code",
      "source": [
        "# DIY\n"
      ],
      "metadata": {
        "id": "f5USqS1GW8eY"
      },
      "execution_count": null,
      "outputs": []
    },
    {
      "cell_type": "markdown",
      "source": [
        "+ Feedback: This exercise helps you understand how to perform arithmetic with variables."
      ],
      "metadata": {
        "id": "mXrVFEwkW8eY"
      }
    },
    {
      "cell_type": "markdown",
      "source": [
        "## 9. Create a variable named 'temperature' and assign it the value '23.5'. Print the type of the variable using 'type( )'.\n",
        "```\n",
        "temperature = 23.5\n",
        "print(type(temperature))\n",
        "```"
      ],
      "metadata": {
        "id": "njemVy3aW9ED"
      }
    },
    {
      "cell_type": "code",
      "source": [
        "# DIY\n"
      ],
      "metadata": {
        "id": "mlJDrcmbW9EE"
      },
      "execution_count": null,
      "outputs": []
    },
    {
      "cell_type": "markdown",
      "source": [
        "+ Feedback: 'type()' function shows that the variable 'temperature' is a 'float', which is used for decimal values."
      ],
      "metadata": {
        "id": "rwA2YjVnW9EE"
      }
    },
    {
      "cell_type": "markdown",
      "source": [
        "## 10. Assign the string \"Hello World\" to a variable and then use the 'upper( )' method to print it in uppercase.\n",
        "```\n",
        "\n",
        "```"
      ],
      "metadata": {
        "id": "IEzCNIh5W9jT"
      }
    },
    {
      "cell_type": "code",
      "source": [
        "# DIY\n"
      ],
      "metadata": {
        "id": "f4Z2cuo3W9jU"
      },
      "execution_count": null,
      "outputs": []
    },
    {
      "cell_type": "markdown",
      "source": [
        "+ Feedback: You've used a string method **'.upper( )'** to convert text to uppercase, showcasing how methods can manipulate stored data."
      ],
      "metadata": {
        "id": "GN8oHWE9W9jU"
      }
    },
    {
      "cell_type": "markdown",
      "source": [
        "---\n",
        "The End"
      ],
      "metadata": {
        "id": "Z88mu9eEY7QR"
      }
    }
  ]
}