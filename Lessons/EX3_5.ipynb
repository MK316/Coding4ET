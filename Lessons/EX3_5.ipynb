{
  "nbformat": 4,
  "nbformat_minor": 0,
  "metadata": {
    "colab": {
      "private_outputs": true,
      "provenance": [],
      "authorship_tag": "ABX9TyOn0lTEBawHxUxLQumh4Q2f",
      "include_colab_link": true
    },
    "kernelspec": {
      "name": "python3",
      "display_name": "Python 3"
    },
    "language_info": {
      "name": "python"
    }
  },
  "cells": [
    {
      "cell_type": "markdown",
      "metadata": {
        "id": "view-in-github",
        "colab_type": "text"
      },
      "source": [
        "<a href=\"https://colab.research.google.com/github/MK316/Coding4ET/blob/main/Lessons/EX3_5.ipynb\" target=\"_parent\"><img src=\"https://colab.research.google.com/assets/colab-badge.svg\" alt=\"Open In Colab\"/></a>"
      ]
    },
    {
      "cell_type": "markdown",
      "source": [
        "# 🐳 Exercises 3.5: Function\n",
        "\n",
        "### Part 1: What are Functions?\n",
        "Functions are blocks of organized, reusable code that perform a single, related action. They provide better modularity for your application and a high degree of code reusing. In Python, you define functions using the def keyword.\n",
        "\n",
        "**Advantages of using functions:**\n",
        "\n",
        "+ Code Reuse: Write once, use many times.\n",
        "+ Modularity: Divide complex processes into simpler pieces.\n",
        "+ Information Hiding: Hide the details of operations and expose only what's necessary.\n",
        "\n",
        "### Part 2: Defining and Using Functions\n",
        "Functions are defined with a name, parameters (if any), and a block of code. They can optionally return a value."
      ],
      "metadata": {
        "id": "ij8B7_65VTtN"
      }
    },
    {
      "cell_type": "markdown",
      "source": [
        "## 1. Define a function named 'greet' that prints \"Hello, World!\" when called.\n",
        "\n",
        "```\n",
        "def greet():\n",
        "    print(\"Hello, World!\")\n",
        "\n",
        "greet()\n",
        "\n",
        "```"
      ],
      "metadata": {
        "id": "8fddso8BVWqJ"
      }
    },
    {
      "cell_type": "code",
      "execution_count": null,
      "metadata": {
        "id": "6ndkrhrMVSps"
      },
      "outputs": [],
      "source": [
        "# DIY\n"
      ]
    },
    {
      "cell_type": "markdown",
      "source": [
        "+ Feedback: This exercise demonstrates how to define a simple function with no parameters and how to call it."
      ],
      "metadata": {
        "id": "6ogAq5USV0xw"
      }
    },
    {
      "cell_type": "markdown",
      "source": [
        "## 2. Create a function called 'add' that takes two parameters and prints their sum.\n",
        "\n",
        "```\n",
        "def add(a, b):\n",
        "    print(a + b)\n",
        "\n",
        "add(5, 3)\n",
        "\n",
        "\n",
        "```"
      ],
      "metadata": {
        "id": "aMqvzNFxVuLG"
      }
    },
    {
      "cell_type": "code",
      "source": [
        "# DIY\n"
      ],
      "metadata": {
        "id": "5JaMcJxwWPIr"
      },
      "execution_count": null,
      "outputs": []
    },
    {
      "cell_type": "markdown",
      "source": [
        "+ Feedback: Here, you learn to pass parameters to a function and perform an operation (addition) with them."
      ],
      "metadata": {
        "id": "5hv2u087V8uj"
      }
    },
    {
      "cell_type": "markdown",
      "source": [
        "## 3. Write a function named multiply that returns the product of two numbers.\n",
        "\n",
        "```\n",
        "def multiply(x, y):\n",
        "    return x * y\n",
        "\n",
        "result = multiply(4, 5)\n",
        "print(result)\n",
        "\n",
        "\n",
        "```"
      ],
      "metadata": {
        "id": "17O3L_DfWA2D"
      }
    },
    {
      "cell_type": "code",
      "source": [
        "# DIY\n"
      ],
      "metadata": {
        "id": "8s0otM8JV8RL"
      },
      "execution_count": null,
      "outputs": []
    },
    {
      "cell_type": "markdown",
      "source": [
        "+ Feedback: This function returns a value, showing how functions can send data back to the caller."
      ],
      "metadata": {
        "id": "yUMqEoyRWIRW"
      }
    },
    {
      "cell_type": "markdown",
      "source": [
        "## 4. Define a function 'is_even' that takes a number and returns 'True' if the number is even, else 'False'.\n",
        "\n",
        "```\n",
        "def is_even(num):\n",
        "    return num % 2 == 0\n",
        "\n",
        "print(is_even(10))  # Should print True\n",
        "print(is_even(3))   # Should print False\n",
        "\n",
        "\n",
        "```"
      ],
      "metadata": {
        "id": "zyeVwnf8WSdX"
      }
    },
    {
      "cell_type": "code",
      "source": [
        "# DIY"
      ],
      "metadata": {
        "id": "H18owXPZWXvI"
      },
      "execution_count": null,
      "outputs": []
    },
    {
      "cell_type": "markdown",
      "source": [
        "+ Feedback: Demonstrates how to use conditional statements within functions to determine logic based on the input."
      ],
      "metadata": {
        "id": "KNsHovccWY9N"
      }
    },
    {
      "cell_type": "markdown",
      "source": [
        "## 5. Create a function 'factorial' that calculates the factorial of a number.\n",
        "\n",
        "```\n",
        "def factorial(n):\n",
        "    if n == 0:\n",
        "        return 1\n",
        "    else:\n",
        "        return n * factorial(n-1)\n",
        "\n",
        "print(factorial(5))  # Should print 120\n",
        "\n",
        "\n",
        "```"
      ],
      "metadata": {
        "id": "WuV73v5mWb1-"
      }
    },
    {
      "cell_type": "code",
      "source": [
        "# DIY\n"
      ],
      "metadata": {
        "id": "GI916DaSWhLU"
      },
      "execution_count": null,
      "outputs": []
    },
    {
      "cell_type": "markdown",
      "source": [
        "+ Feedback: This introduces recursion, where a function calls itself to compute a result."
      ],
      "metadata": {
        "id": "sNZ1MLpHWiM3"
      }
    },
    {
      "cell_type": "markdown",
      "source": [
        "## 6. Write a function convert_to_uppercase that takes a string and returns it in uppercase.\n",
        "```\n",
        "def convert_to_uppercase(text):\n",
        "    return text.upper()\n",
        "\n",
        "print(convert_to_uppercase(\"hello\"))\n",
        "\n",
        "\n",
        "```"
      ],
      "metadata": {
        "id": "PH3uQKrgWuFe"
      }
    },
    {
      "cell_type": "code",
      "source": [
        "# DIY\n"
      ],
      "metadata": {
        "id": "bLoOpyjNWuFe"
      },
      "execution_count": null,
      "outputs": []
    },
    {
      "cell_type": "markdown",
      "source": [
        "+ Feedback: Teaches how to manipulate strings within functions and return the manipulated string."
      ],
      "metadata": {
        "id": "lelop_nkWuFe"
      }
    },
    {
      "cell_type": "markdown",
      "source": [
        "## 7. Define a function max_number that takes three numbers and returns the largest among them.\n",
        "```\n",
        "def max_number(a, b, c):\n",
        "    return max(a, b, c)\n",
        "\n",
        "print(max_number(10, 20, 5))\n",
        "\n",
        "\n",
        "```"
      ],
      "metadata": {
        "id": "SmiIFEvpW7mS"
      }
    },
    {
      "cell_type": "code",
      "source": [
        "# DIY\n"
      ],
      "metadata": {
        "id": "jNkB-XJEW7mS"
      },
      "execution_count": null,
      "outputs": []
    },
    {
      "cell_type": "markdown",
      "source": [
        "+ Feedback: Shows how to use built-in functions like 'max( )' within user-defined functions."
      ],
      "metadata": {
        "id": "wrzsUW0aW7mS"
      }
    },
    {
      "cell_type": "markdown",
      "source": [
        "## 8. Create a function 'calculate_length' that finds the length of a given list or string.\n",
        "```\n",
        "def calculate_length(items):\n",
        "    return len(items)\n",
        "\n",
        "print(calculate_length([1, 2, 3, 4]))  # Should print 4\n",
        "print(calculate_length(\"characters\"))  # Should print 10\n",
        "\n",
        "```"
      ],
      "metadata": {
        "id": "mLgUX1itW8eY"
      }
    },
    {
      "cell_type": "code",
      "source": [
        "# DIY\n"
      ],
      "metadata": {
        "id": "f5USqS1GW8eY"
      },
      "execution_count": null,
      "outputs": []
    },
    {
      "cell_type": "markdown",
      "source": [
        "+ Feedback: Demonstrates how to pass different types of arguments to functions and how to use the **'len( )'** function."
      ],
      "metadata": {
        "id": "mXrVFEwkW8eY"
      }
    },
    {
      "cell_type": "markdown",
      "source": [
        "## 9.  Write a function divide that takes two numbers and returns their division. If the denominator is zero, return \"Cannot divide by zero.\"\n",
        "```\n",
        "def divide(x, y):\n",
        "    if y == 0:\n",
        "        return \"Cannot divide by zero.\"\n",
        "    return x / y\n",
        "\n",
        "print(divide(20, 5))   # Should print 4.0\n",
        "print(divide(20, 0))   # Should print \"Cannot divide by zero.\"\n",
        "\n",
        "\n",
        "```"
      ],
      "metadata": {
        "id": "njemVy3aW9ED"
      }
    },
    {
      "cell_type": "code",
      "source": [
        "# DIY\n"
      ],
      "metadata": {
        "id": "mlJDrcmbW9EE"
      },
      "execution_count": null,
      "outputs": []
    },
    {
      "cell_type": "markdown",
      "source": [
        "+ Feedback: Teaches error handling within functions to prevent runtime errors."
      ],
      "metadata": {
        "id": "rwA2YjVnW9EE"
      }
    },
    {
      "cell_type": "markdown",
      "source": [
        "## 10. Define a function 'circle_area' that calculates the area of a circle given its radius.\n",
        "\n",
        "```\n",
        "import math\n",
        "\n",
        "def circle_area(radius):\n",
        "    return math.pi * radius ** 2\n",
        "\n",
        "print(circle_area(3))  # Should print the area of a circle with radius 3\n",
        "\n",
        "\n",
        "```"
      ],
      "metadata": {
        "id": "IEzCNIh5W9jT"
      }
    },
    {
      "cell_type": "code",
      "source": [
        "# DIY\n"
      ],
      "metadata": {
        "id": "f4Z2cuo3W9jU"
      },
      "execution_count": null,
      "outputs": []
    },
    {
      "cell_type": "markdown",
      "source": [
        "+ Feedback: Shows how to import and use the 'math' module to perform more complex mathematical operations."
      ],
      "metadata": {
        "id": "GN8oHWE9W9jU"
      }
    },
    {
      "cell_type": "markdown",
      "source": [
        "---\n",
        "These exercises cover the basics of defining and using functions in Python, focusing on creating modular, reusable code blocks that simplify complex tasks and enhance code readability.\n",
        "---\n",
        "The End"
      ],
      "metadata": {
        "id": "Z88mu9eEY7QR"
      }
    }
  ]
}