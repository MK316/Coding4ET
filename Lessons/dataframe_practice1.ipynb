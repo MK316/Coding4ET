{
  "nbformat": 4,
  "nbformat_minor": 0,
  "metadata": {
    "colab": {
      "private_outputs": true,
      "provenance": [],
      "authorship_tag": "ABX9TyO7s8ELZa2/ELPUHVNodLxw",
      "include_colab_link": true
    },
    "kernelspec": {
      "name": "python3",
      "display_name": "Python 3"
    },
    "language_info": {
      "name": "python"
    }
  },
  "cells": [
    {
      "cell_type": "markdown",
      "metadata": {
        "id": "view-in-github",
        "colab_type": "text"
      },
      "source": [
        "<a href=\"https://colab.research.google.com/github/MK316/Coding4ET/blob/main/Lessons/dataframe_practice1.ipynb\" target=\"_parent\"><img src=\"https://colab.research.google.com/assets/colab-badge.svg\" alt=\"Open In Colab\"/></a>"
      ]
    },
    {
      "cell_type": "markdown",
      "source": [
        "# Dataframe practice 1"
      ],
      "metadata": {
        "id": "m8UhRS3b1AuQ"
      }
    },
    {
      "cell_type": "markdown",
      "source": [
        "## 1. Introduction to DataFrames\n",
        "A DataFrame is a 2D data structure, like a table, with rows and columns. It is part of the pandas library in Python.\n",
        "\n",
        "For instance,\n",
        "\n",
        "|ID|Name|Music|Math|\n",
        "|--|--|--|--|\n",
        "|1|Mary|87|80|\n",
        "|2|Tom|67|87|\n",
        "|3|Jane|90|70|\n",
        "|...|...|...|...|\n",
        "|100|Elliot|89|95|\n"
      ],
      "metadata": {
        "id": "Yayzzm441Jm4"
      }
    },
    {
      "cell_type": "code",
      "execution_count": null,
      "metadata": {
        "id": "goK_06dv1ADC"
      },
      "outputs": [],
      "source": [
        "# Create a dataframe\n",
        "import pandas as pd  # Import pandas library\n",
        "\n",
        "# Example DataFrame\n",
        "data = {\n",
        "    'Name': ['Mary', 'Tom', 'Jane'],\n",
        "    'Music': [87, 67, 90],\n",
        "    'Math': [80, 87, 70]\n",
        "}\n",
        "\n",
        "df = pd.DataFrame(data)  # Create a DataFrame from the dictionary\n",
        "print(df)  # Display the DataFrame"
      ]
    },
    {
      "cell_type": "code",
      "source": [
        "df1=df"
      ],
      "metadata": {
        "id": "MqWlFYGl4c2q"
      },
      "execution_count": null,
      "outputs": []
    },
    {
      "cell_type": "markdown",
      "source": [
        "#### Applied: Dictionary sample"
      ],
      "metadata": {
        "id": "irNMRPhz2QRf"
      }
    },
    {
      "cell_type": "code",
      "source": [
        "import pandas as pd  # Import pandas library\n",
        "\n",
        "# Example DataFrame\n",
        "data = {\n",
        "    'Word': ['apple', 'banana', 'cherry'],\n",
        "    'Meaning': [\n",
        "        'A round fruit with red, green, or yellow skin, and a crisp white interior.',\n",
        "        'A long, curved fruit with a soft, starchy interior, typically yellow when ripe.',\n",
        "        'A small, round, red fruit with a juicy interior and a pit in the center.'\n",
        "    ]\n",
        "}\n",
        "\n",
        "df = pd.DataFrame(data)\n",
        "\n",
        "print(df)  # Display the DataFrame"
      ],
      "metadata": {
        "id": "vc6k9D7N2TuU"
      },
      "execution_count": null,
      "outputs": []
    },
    {
      "cell_type": "markdown",
      "source": [
        "#### Saving dataframe as csv file"
      ],
      "metadata": {
        "id": "pTJBQs8n2ZiA"
      }
    },
    {
      "cell_type": "code",
      "source": [
        "df.to_csv('output.csv', index=False)"
      ],
      "metadata": {
        "id": "vbpmAbyk2c95"
      },
      "execution_count": null,
      "outputs": []
    },
    {
      "cell_type": "markdown",
      "source": [
        "## 2. Loading and Saving CSV Files in Colab\n",
        "\n",
        "CSV files are common for storing data. Here's how to handle them in Google Colab.\n",
        "\n",
        "1)  Upload a CSV File:"
      ],
      "metadata": {
        "id": "cbAOklv92-dJ"
      }
    },
    {
      "cell_type": "code",
      "source": [
        "from google.colab import files\n",
        "\n",
        "uploaded = files.upload()  # Upload a CSV file manually"
      ],
      "metadata": {
        "id": "DB-A0B3G3EFa"
      },
      "execution_count": null,
      "outputs": []
    },
    {
      "cell_type": "markdown",
      "source": [
        "2) Read a csv file as a dataframe"
      ],
      "metadata": {
        "id": "oMH8xqqk3IB7"
      }
    },
    {
      "cell_type": "code",
      "source": [
        "# We will read 'output.csv' on Colab platform\n",
        "\n",
        "df = pd.read_csv('/content/output.csv')  # Replace 'your_file.csv' with the file name if different\n",
        "\n",
        "print(df.head())  # Show the first few rows"
      ],
      "metadata": {
        "id": "my3HG-t73Ts4"
      },
      "execution_count": null,
      "outputs": []
    },
    {
      "cell_type": "markdown",
      "source": [
        "## 3. Basic dataframe operations"
      ],
      "metadata": {
        "id": "WT1pHsgW3o5P"
      }
    },
    {
      "cell_type": "markdown",
      "source": [
        "1) Accessing a column"
      ],
      "metadata": {
        "id": "eXQyMIdp3zeX"
      }
    },
    {
      "cell_type": "code",
      "source": [
        "df['Word']  # Access the 'Word' column"
      ],
      "metadata": {
        "id": "c6jPF2SG33AE"
      },
      "execution_count": null,
      "outputs": []
    },
    {
      "cell_type": "code",
      "source": [
        "print(df['Word'])"
      ],
      "metadata": {
        "id": "3nswJtJY36At"
      },
      "execution_count": null,
      "outputs": []
    },
    {
      "cell_type": "markdown",
      "source": [
        "2) Filter rows"
      ],
      "metadata": {
        "id": "ETduwuVI3_pM"
      }
    },
    {
      "cell_type": "code",
      "source": [
        "filtered = df[df['Word'] == 'apple']  # Filter rows where 'Word' is 'apple'\n",
        "print(filtered)"
      ],
      "metadata": {
        "id": "p2YowkIF4BsQ"
      },
      "execution_count": null,
      "outputs": []
    },
    {
      "cell_type": "markdown",
      "source": [
        "2-2) Filtering with df1 (score data)"
      ],
      "metadata": {
        "id": "cwpj76LH4hAH"
      }
    },
    {
      "cell_type": "code",
      "source": [
        "df1"
      ],
      "metadata": {
        "id": "M1LiOC6B4l5h"
      },
      "execution_count": null,
      "outputs": []
    },
    {
      "cell_type": "code",
      "source": [
        "# Find name whose Math is lower than 80"
      ],
      "metadata": {
        "id": "nMVIzmJf4n4W"
      },
      "execution_count": null,
      "outputs": []
    },
    {
      "cell_type": "code",
      "source": [
        "filtered1 = df1[df1['Math'] < 80]\n",
        "print(filtered1)"
      ],
      "metadata": {
        "id": "0yTZ0h9E4soJ"
      },
      "execution_count": null,
      "outputs": []
    },
    {
      "cell_type": "code",
      "source": [
        "# Convert the 'Name' column to a list\n",
        "names_list = filtered1['Name'].tolist()\n",
        "\n",
        "# Print the list to see the names without the index\n",
        "print(names_list)\n"
      ],
      "metadata": {
        "id": "xjxqf5Bl5uHi"
      },
      "execution_count": null,
      "outputs": []
    },
    {
      "cell_type": "code",
      "source": [
        "print(f\"Students whose Math is lower than 80: {names_list}\")"
      ],
      "metadata": {
        "id": "-MsUsZUz47nL"
      },
      "execution_count": null,
      "outputs": []
    },
    {
      "cell_type": "markdown",
      "source": [
        "3) Adding a new column"
      ],
      "metadata": {
        "id": "nWosjXin58xu"
      }
    },
    {
      "cell_type": "code",
      "source": [
        "df['Length'] = df['Word'].apply(len)  # Add a column with word lengths\n",
        "print(df)"
      ],
      "metadata": {
        "id": "XLz1jxuy6IyR"
      },
      "execution_count": null,
      "outputs": []
    },
    {
      "cell_type": "markdown",
      "source": [
        "4) Sort data"
      ],
      "metadata": {
        "id": "wGkMo44H6XpK"
      }
    },
    {
      "cell_type": "code",
      "source": [
        "df = df.sort_values(by='Length', ascending=True)  # Sort by the 'Length' column\n",
        "print(df)"
      ],
      "metadata": {
        "id": "cf1C_p9m6A3z"
      },
      "execution_count": null,
      "outputs": []
    },
    {
      "cell_type": "markdown",
      "source": [
        "## 4. Gradio Integration"
      ],
      "metadata": {
        "id": "hZmKx2Vh6dpZ"
      }
    },
    {
      "cell_type": "code",
      "source": [
        "# Install gradio\n",
        "%%capture\n",
        "!pip install gradio"
      ],
      "metadata": {
        "id": "F3a5IpWQ6f5V"
      },
      "execution_count": null,
      "outputs": []
    },
    {
      "cell_type": "markdown",
      "source": [
        "# Q: Find an error in the code"
      ],
      "metadata": {
        "id": "7ACYK-_Z7MEL"
      }
    },
    {
      "cell_type": "code",
      "source": [
        "import gradio as gr\n",
        "\n",
        "def search_meaning(word):\n",
        "    result = df[df['Word'].str.contains(word, case=False)]\n",
        "    if not result.empty:\n",
        "        return result['Meaning'].values[0]\n",
        "    else:\n",
        "        return \"Word not found.\"\n",
        "\n",
        "interface = gr.Interface(\n",
        "    fn=search_meaning,\n",
        "    inputs=gr.Textbox(label=\"Enter a word\"),\n",
        "    outputs=gr.Textbox(label=\"Meaning\")\n",
        "    description=\"Choose words from 'apple','banana','cherry'\"\n",
        ")\n",
        "\n",
        "interface.launch()"
      ],
      "metadata": {
        "id": "gI4i-3ML6h9c"
      },
      "execution_count": null,
      "outputs": []
    },
    {
      "cell_type": "markdown",
      "source": [
        "## 6. Sample Language Application"
      ],
      "metadata": {
        "id": "AYAgR_-Q7TBK"
      }
    },
    {
      "cell_type": "code",
      "source": [
        "import pandas as pd\n",
        "import gradio as gr\n",
        "\n",
        "# Example Data\n",
        "data = {'Word': ['apple', 'banana', 'cherry'],\n",
        "        'IPA': ['[ˈæppl̩]', '[bəˈnænə]', '[ˈʧɛri]']}\n",
        "df = pd.DataFrame(data)\n",
        "\n",
        "def ipa_transcription(word):\n",
        "    result = df[df['Word'].str.contains(word, case=False)]\n",
        "    if not result.empty:\n",
        "        return result['IPA'].values[0]\n",
        "    else:\n",
        "        return \"Transcription not available.\"\n",
        "\n",
        "interface = gr.Interface(\n",
        "    fn=ipa_transcription,\n",
        "    inputs=gr.Textbox(label=\"Enter a word\"),\n",
        "    outputs=gr.Textbox(label=\"IPA Transcription\")\n",
        ")\n",
        "\n",
        "interface.launch()\n"
      ],
      "metadata": {
        "id": "ZFyiRJKu7VS0"
      },
      "execution_count": null,
      "outputs": []
    },
    {
      "cell_type": "markdown",
      "source": [
        "---\n",
        "The END"
      ],
      "metadata": {
        "id": "q9970ifY7mN-"
      }
    }
  ]
}