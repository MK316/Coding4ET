{
  "nbformat": 4,
  "nbformat_minor": 0,
  "metadata": {
    "colab": {
      "private_outputs": true,
      "provenance": [],
      "authorship_tag": "ABX9TyMLbYyPGr5tUDLqm5riPxvr",
      "include_colab_link": true
    },
    "kernelspec": {
      "name": "python3",
      "display_name": "Python 3"
    },
    "language_info": {
      "name": "python"
    }
  },
  "cells": [
    {
      "cell_type": "markdown",
      "metadata": {
        "id": "view-in-github",
        "colab_type": "text"
      },
      "source": [
        "<a href=\"https://colab.research.google.com/github/MK316/Coding4ET/blob/main/Lessons/huggingface_deploy.ipynb\" target=\"_parent\"><img src=\"https://colab.research.google.com/assets/colab-badge.svg\" alt=\"Open In Colab\"/></a>"
      ]
    },
    {
      "cell_type": "markdown",
      "source": [
        "# 🌿 **Your own TTS application on Huggingface**\n",
        "- How to deploy your codes to Spaces on Huggingface\n",
        "\n",
        "+ [huggingface Spaces](https://huggingface.co/spaces): You need an account on Huggingface. (free subscription)"
      ],
      "metadata": {
        "id": "lK0xe9f9i_6C"
      }
    },
    {
      "cell_type": "markdown",
      "source": [
        "# 1. Design\n",
        "\n",
        "1. User input: The user types any text.\n",
        "2. Text-to-Audio conversion: The model converts the text into playable audio.\n",
        "3. Generate a live link to share with others: using **Gradio**\n",
        "3. Independent Application (Deploy to **Spaces on Huggingface**): The application runs independently from any locally running code."
      ],
      "metadata": {
        "id": "t3_eUdaBjQSe"
      }
    },
    {
      "cell_type": "code",
      "source": [
        "%%capture\n",
        "!pip install gtts"
      ],
      "metadata": {
        "id": "JTGuPcnPlDNs"
      },
      "execution_count": null,
      "outputs": []
    },
    {
      "cell_type": "code",
      "source": [
        "# Text-to-Audio Conversion\n",
        "\n",
        "from gtts import gTTS\n",
        "from IPython.display import Audio, display\n",
        "\n",
        "# Function to convert text to audio\n",
        "def text_to_audio(mytext, filename):\n",
        "    # Create a gTTS object\n",
        "    tts = gTTS(text=mytext, lang='en')\n",
        "    # Save the audio file\n",
        "    tts.save(filename)\n"
      ],
      "metadata": {
        "id": "-xUGm4FbkBmE"
      },
      "execution_count": null,
      "outputs": []
    },
    {
      "cell_type": "code",
      "source": [
        "# Uesr input\n",
        "mytext = input()\n",
        "\n",
        "audio_file = \"output.mp3\"\n",
        "text_to_audio(mytext, audio_file)\n",
        "\n",
        "# Play the audio file\n",
        "display(Audio(filename=audio_file, autoplay=True))"
      ],
      "metadata": {
        "id": "oV5o0UZhk4ag"
      },
      "execution_count": null,
      "outputs": []
    },
    {
      "cell_type": "markdown",
      "source": [
        "# 2. Gradio implementation\n",
        "\n",
        "1. Install libraries\n",
        "2. Text-to-Audio conversion functioin\n",
        "3. Gradio interface: fn, inputs, outputs\n",
        "4. Launch the interface: iface.launch()"
      ],
      "metadata": {
        "id": "hyrrKNJel-xN"
      }
    },
    {
      "cell_type": "code",
      "source": [
        "%%capture\n",
        "!pip install gtts gradio\n",
        "# !pip install --upgrade gradio"
      ],
      "metadata": {
        "id": "z4ewpgIDmhwj"
      },
      "execution_count": null,
      "outputs": []
    },
    {
      "cell_type": "code",
      "source": [
        "# Install the necessary libraries\n",
        "# !pip install gtts gradio\n",
        "\n",
        "from gtts import gTTS\n",
        "import gradio as gr\n",
        "\n",
        "# Function to convert text to audio\n",
        "def text_to_audio(mytext):\n",
        "    # Create a gTTS object\n",
        "    tts = gTTS(text=mytext, lang='en')\n",
        "    # Save the audio file\n",
        "    filename = \"output.mp3\"\n",
        "    tts.save(filename)\n",
        "    return filename\n",
        "\n",
        "# Gradio interface\n",
        "def gradio_interface(text):\n",
        "    audio_file = text_to_audio(text)\n",
        "    return audio_file\n",
        "\n",
        "# Create a Gradio interface\n",
        "iface = gr.Interface(\n",
        "    fn=gradio_interface,\n",
        "    inputs=gr.Textbox(lines=2, placeholder=\"Enter text here...\"),\n",
        "    outputs=gr.Audio(type=\"filepath\"),\n",
        "    title=\"Text to Speech Application (English audio)\",\n",
        "    description=\"Type your text and to generate the corresponding audio in English.\"\n",
        ")\n",
        "\n",
        "# Launch the interface\n",
        "iface.launch(share=True)\n"
      ],
      "metadata": {
        "id": "gkwZ1pWxlvTp"
      },
      "execution_count": null,
      "outputs": []
    },
    {
      "cell_type": "markdown",
      "source": [
        "# 3. Go to Huggingface to deploy the code\n",
        "\n",
        "[Go to Huggingface](https://huggingface.co)"
      ],
      "metadata": {
        "id": "R8f6TA3vo3Jd"
      }
    },
    {
      "cell_type": "markdown",
      "source": [
        "---\n",
        "The END"
      ],
      "metadata": {
        "id": "g3Qkn-iNxbPX"
      }
    }
  ]
}