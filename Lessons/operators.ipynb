{
  "nbformat": 4,
  "nbformat_minor": 0,
  "metadata": {
    "colab": {
      "private_outputs": true,
      "provenance": [],
      "authorship_tag": "ABX9TyODIOVNZR8m7P8VsSo6z4Zf",
      "include_colab_link": true
    },
    "kernelspec": {
      "name": "python3",
      "display_name": "Python 3"
    },
    "language_info": {
      "name": "python"
    }
  },
  "cells": [
    {
      "cell_type": "markdown",
      "metadata": {
        "id": "view-in-github",
        "colab_type": "text"
      },
      "source": [
        "<a href=\"https://colab.research.google.com/github/MK316/Coding4ET/blob/main/Lessons/operators.ipynb\" target=\"_parent\"><img src=\"https://colab.research.google.com/assets/colab-badge.svg\" alt=\"Open In Colab\"/></a>"
      ]
    },
    {
      "cell_type": "markdown",
      "source": [
        "# 3.4A Operator practice"
      ],
      "metadata": {
        "id": "v1s2NrVOsm7M"
      }
    },
    {
      "cell_type": "code",
      "execution_count": null,
      "metadata": {
        "id": "L8GEIh12q8hE"
      },
      "outputs": [],
      "source": [
        "def calculator():\n",
        "    print(\"Welcome to the Simple Calculator!\")\n",
        "    print(\"You can perform addition, subtraction, multiplication, and division.\\n\")\n",
        "\n",
        "    # Get the first number from the user\n",
        "    x = float(input(\"Enter the first number (x): \"))\n",
        "\n",
        "    # Get the operation from the user\n",
        "    operation = input(\"Choose the operation (+, -, *, /): \")\n",
        "\n",
        "    # Get the second number from the user\n",
        "    y = float(input(\"Enter the second number (y): \"))\n",
        "\n",
        "    # Perform the calculation based on the operation\n",
        "    if operation == '+':\n",
        "        result = x + y\n",
        "        print(f\"The result of {x} + {y} is {result}.\")\n",
        "    elif operation == '-':\n",
        "        result = x - y\n",
        "        print(f\"The result of {x} - {y} is {result}.\")\n",
        "    elif operation == '*':\n",
        "        result = x * y\n",
        "        print(f\"The result of {x} * {y} is {result}.\")\n",
        "    elif operation == '/':\n",
        "        # Check if the second number is not zero to avoid division by zero error\n",
        "        if y != 0:\n",
        "            result = x / y\n",
        "            print(f\"The result of {x} / {y} is {result}.\")\n",
        "        else:\n",
        "            print(\"Division by zero is not allowed.\")\n",
        "    else:\n",
        "        print(\"Invalid operation. Please select one of +, -, *, or /.\")\n",
        "\n",
        "# Run the calculator\n",
        "calculator()\n"
      ]
    },
    {
      "cell_type": "markdown",
      "source": [
        "### Sample application"
      ],
      "metadata": {
        "id": "YEpjTCDItMe1"
      }
    },
    {
      "cell_type": "code",
      "source": [
        "!pip install gradio"
      ],
      "metadata": {
        "id": "zyWSocDEsEel"
      },
      "execution_count": null,
      "outputs": []
    },
    {
      "cell_type": "code",
      "source": [
        "#@markdown 🌀 Calculator app with Gradio\n",
        "import gradio as gr\n",
        "\n",
        "def calculate(x, operation, y):\n",
        "    if operation == '+':\n",
        "        result = x + y\n",
        "    elif operation == '-':\n",
        "        result = x - y\n",
        "    elif operation == '*':\n",
        "        result = x * y\n",
        "    elif operation == '/':\n",
        "        if y != 0:\n",
        "            result = x / y\n",
        "        else:\n",
        "            return \"Division by zero is not allowed.\"\n",
        "    else:\n",
        "        return \"Invalid operation.\"\n",
        "\n",
        "    return f\"The result of {x} {operation} {y} is {result}.\"\n",
        "\n",
        "def main():\n",
        "    interface = gr.Interface(\n",
        "        fn=calculate,\n",
        "        inputs=[\n",
        "            gr.Number(label=\"First Number (x)\"),\n",
        "            gr.Dropdown(choices=['+', '-', '*', '/'], label=\"Operation\"),\n",
        "            gr.Number(label=\"Second Number (y)\")\n",
        "        ],\n",
        "        outputs=\"text\",\n",
        "        title=\"Simple Calculator\",\n",
        "        description=\"Select two numbers and an operation to see the result.\"\n",
        "    )\n",
        "    interface.launch()\n",
        "\n",
        "if __name__ == \"__main__\":\n",
        "    main()\n"
      ],
      "metadata": {
        "cellView": "form",
        "id": "KbF99-ggruNN"
      },
      "execution_count": null,
      "outputs": []
    },
    {
      "cell_type": "markdown",
      "source": [
        "# 3.4B Comparison operators"
      ],
      "metadata": {
        "id": "TwBhjJhAsyFD"
      }
    },
    {
      "cell_type": "markdown",
      "source": [
        "#### Sample app 2"
      ],
      "metadata": {
        "id": "mw04jmc7tWpj"
      }
    },
    {
      "cell_type": "code",
      "source": [
        "#@markdown 🌀 Number guessing game\n",
        "\n",
        "import random\n",
        "\n",
        "def number_guessing_game():\n",
        "    print(\"Welcome to the Number Guessing Game!\")\n",
        "    print(\"I'm thinking of a number between 1 and 100.\")\n",
        "\n",
        "    # Generate a random number between 1 and 100\n",
        "    target_number = random.randint(1, 100)\n",
        "\n",
        "    # Initialize the guess variable with a value that cannot be the target\n",
        "    guess = 0\n",
        "    trials = 0  # Initialize the trials counter\n",
        "\n",
        "    # Continue to ask for guesses until the user guesses the target number\n",
        "    while guess != target_number:\n",
        "        # Get the user's guess\n",
        "        guess = int(input(\"Enter your guess: \"))\n",
        "        trials += 1  # Increment the trial counter each time the user makes a guess\n",
        "\n",
        "        # Provide feedback based on the guess\n",
        "        if guess < target_number:\n",
        "            print(\"It's greater than that.\")\n",
        "        elif guess > target_number:\n",
        "            print(\"It's less than that.\")\n",
        "\n",
        "    # When the guess is correct, print the congratulatory message with the number of trials\n",
        "    print(f\"Congratulations! You guessed the number correctly after {trials} {'trial' if trials == 1 else 'trials'}.\")\n",
        "\n",
        "number_guessing_game()\n",
        "\n"
      ],
      "metadata": {
        "cellView": "form",
        "id": "EWj-uMays4bf"
      },
      "execution_count": null,
      "outputs": []
    },
    {
      "cell_type": "markdown",
      "source": [
        "# 3.4C Logical operators"
      ],
      "metadata": {
        "id": "Wh_6gPsss9tp"
      }
    },
    {
      "cell_type": "code",
      "source": [
        "# Logical Operators in Python\n",
        "\n",
        "# Variables for the examples\n",
        "x = True\n",
        "y = False\n",
        "\n",
        "# The 'and' operator returns True only if both operands are true\n",
        "result_and = x and y\n",
        "print(\"x and y is\", result_and)  # Output will be False because y is False\n",
        "\n",
        "# The 'or' operator returns True if at least one of the operands is true\n",
        "result_or = x or y\n",
        "print(\"x or y is\", result_or)  # Output will be True because x is True\n",
        "\n",
        "# The 'not' operator returns True if the operand is false\n",
        "result_not = not x\n",
        "print(\"not x is\", result_not)  # Output will be False because x is True\n"
      ],
      "metadata": {
        "id": "xtlUgGMltA2N"
      },
      "execution_count": null,
      "outputs": []
    },
    {
      "cell_type": "markdown",
      "source": [
        "#### Sample app 3"
      ],
      "metadata": {
        "id": "1c67w5CFtgsx"
      }
    },
    {
      "cell_type": "code",
      "source": [
        "#@markdown 🌀 Word guessing app\n",
        "\n",
        "import gradio as gr\n",
        "import random\n",
        "\n",
        "# Dictionary of words and their hints\n",
        "words_data = {\n",
        "    \"python\": [\"a high-level programming language\", \"First letter: P\", \"Number of letters: 6\"],\n",
        "    \"galaxy\": [\"a system of stars and planets\", \"First letter: G\", \"Number of letters: 6\"],\n",
        "    \"ocean\": [\"a large body of salt water\", \"First letter: O\", \"Number of letters: 5\"],\n",
        "    \"quasar\": [\"a very energetic and distant active galactic nucleus\", \"First letter: Q\", \"Number of letters: 6\"],\n",
        "    \"volcano\": [\"a mountain or hill with a crater which lava, rock fragments, hot vapor and gas eruptions come from the earth's crust\", \"First letter: V\", \"Number of letters: 7\"]\n",
        "}\n",
        "\n",
        "current_word = \"\"\n",
        "hints = []\n",
        "hint_index = 0\n",
        "\n",
        "def start_game():\n",
        "    global current_word, hints, hint_index\n",
        "    current_word, hints = random.choice(list(words_data.items()))\n",
        "    hint_index = 0\n",
        "    return \"\\n\".join(hints[:1])  # Show only the first hint initially\n",
        "\n",
        "def more_hint():\n",
        "    global hint_index\n",
        "    if hint_index < len(hints) - 1:\n",
        "        hint_index += 1\n",
        "    return \"\\n\".join(hints[:hint_index + 1])\n",
        "\n",
        "def show_feedback(guess):\n",
        "    global current_word, hints, hint_index\n",
        "    if guess.lower() == current_word.lower():\n",
        "        current_word, hints = random.choice(list(words_data.items()))  # Reset for new word\n",
        "        hint_index = 0\n",
        "        return f\"Correct! The word was '{current_word}'. New word selected, press 'Start Game' to play again.\", \"\"\n",
        "    else:\n",
        "        if hint_index < len(hints) - 1:\n",
        "            return \"Incorrect! Try again.\", \"\\n\".join(hints[:hint_index + 1])\n",
        "        else:\n",
        "            return f\"Incorrect! The correct word was '{current_word}'. New word selected, press 'Start Game' to play again.\", \"\"\n",
        "\n",
        "def setup_interface():\n",
        "    with gr.Blocks() as iface:\n",
        "        gr.Markdown(\"### Word Guessing Game\")\n",
        "        gr.Markdown(\"Try to guess the word based on the hints provided!\")\n",
        "        with gr.Row():\n",
        "            start_button = gr.Button(\"Start Game\")\n",
        "            more_hint_button = gr.Button(\"More Hint\")\n",
        "        hint_display = gr.Textbox(label=\"Hint\", lines=3, interactive=False)\n",
        "        guess_input = gr.Textbox(label=\"Enter your guess here\")\n",
        "        submit_button = gr.Button(\"Show Feedback\")\n",
        "        result_display = gr.Textbox(label=\"Result\", lines=2, interactive=False)\n",
        "        start_button.click(fn=start_game, outputs=hint_display)\n",
        "        more_hint_button.click(fn=more_hint, outputs=hint_display)\n",
        "        submit_button.click(fn=show_feedback, inputs=guess_input, outputs=[result_display, hint_display])\n",
        "\n",
        "    iface.launch()\n",
        "\n",
        "if __name__ == \"__main__\":\n",
        "    setup_interface()\n"
      ],
      "metadata": {
        "cellView": "form",
        "id": "ipp6r9XsxktJ"
      },
      "execution_count": null,
      "outputs": []
    }
  ]
}