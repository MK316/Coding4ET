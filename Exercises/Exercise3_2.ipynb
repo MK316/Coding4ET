{
  "nbformat": 4,
  "nbformat_minor": 0,
  "metadata": {
    "colab": {
      "private_outputs": true,
      "provenance": [],
      "authorship_tag": "ABX9TyMBUfCa661CeIoutjWla2HZ",
      "include_colab_link": true
    },
    "kernelspec": {
      "name": "python3",
      "display_name": "Python 3"
    },
    "language_info": {
      "name": "python"
    }
  },
  "cells": [
    {
      "cell_type": "markdown",
      "metadata": {
        "id": "view-in-github",
        "colab_type": "text"
      },
      "source": [
        "<a href=\"https://colab.research.google.com/github/MK316/Coding4ET/blob/main/Exercises/Exercise3_2.ipynb\" target=\"_parent\"><img src=\"https://colab.research.google.com/assets/colab-badge.svg\" alt=\"Open In Colab\"/></a>"
      ]
    },
    {
      "cell_type": "markdown",
      "source": [
        "# 3.2 Input and Output"
      ],
      "metadata": {
        "id": "TaFpLfCf2Yyw"
      }
    },
    {
      "cell_type": "markdown",
      "source": [
        "## Text file to read from Github\n",
        "\n",
        "+ [sample.txt file](https://github.com/MK316/Coding4ET/tree/main/data)\n",
        "+ Go to the file link and practice how to read a text file using the code below"
      ],
      "metadata": {
        "id": "gHdsygTC2ba4"
      }
    },
    {
      "cell_type": "code",
      "source": [
        "import requests\n",
        "\n",
        "# Link to your raw text file\n",
        "url = \"https://raw.githubusercontent.com/MK316/Coding4ET/main/data/sample.txt\"\n",
        "\n",
        "# Reading the file content\n",
        "mydata = requests.get(url)\n",
        "content = mydata.text\n",
        "\n",
        "# Displaying the content\n",
        "print(content)"
      ],
      "metadata": {
        "id": "9kR2P3fQ3IjK"
      },
      "execution_count": null,
      "outputs": []
    }
  ]
}