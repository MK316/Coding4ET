{
  "nbformat": 4,
  "nbformat_minor": 0,
  "metadata": {
    "colab": {
      "private_outputs": true,
      "provenance": [],
      "authorship_tag": "ABX9TyO/+uKFzog/ecZQdPzUt8KG",
      "include_colab_link": true
    },
    "kernelspec": {
      "name": "python3",
      "display_name": "Python 3"
    },
    "language_info": {
      "name": "python"
    }
  },
  "cells": [
    {
      "cell_type": "markdown",
      "metadata": {
        "id": "view-in-github",
        "colab_type": "text"
      },
      "source": [
        "<a href=\"https://colab.research.google.com/github/MK316/Coding4ET/blob/main/Exercises/Exercise3_2.ipynb\" target=\"_parent\"><img src=\"https://colab.research.google.com/assets/colab-badge.svg\" alt=\"Open In Colab\"/></a>"
      ]
    },
    {
      "cell_type": "markdown",
      "source": [
        "# 3.2 Input and Output"
      ],
      "metadata": {
        "id": "TaFpLfCf2Yyw"
      }
    },
    {
      "cell_type": "markdown",
      "source": [
        "## Text file to read from Github\n",
        "\n",
        "+ [sample.txt file](https://github.com/MK316/Coding4ET/tree/main/data)\n",
        "+ Go to the file link and practice how to read a text file using the code below"
      ],
      "metadata": {
        "id": "gHdsygTC2ba4"
      }
    },
    {
      "cell_type": "code",
      "source": [
        "import requests\n",
        "\n",
        "# Link to your raw text file\n",
        "url = \"https://raw.githubusercontent.com/MK316/Coding4ET/main/data/sample.txt\"\n",
        "\n",
        "# Reading the file content\n",
        "mydata = requests.get(url)\n",
        "content = mydata.text\n",
        "\n",
        "# Displaying the content\n",
        "print(content)"
      ],
      "metadata": {
        "id": "9kR2P3fQ3IjK"
      },
      "execution_count": null,
      "outputs": []
    },
    {
      "cell_type": "markdown",
      "source": [
        "## Image file to read from Github\n",
        "\n",
        "+ [image file link](https://github.com/MK316/Coding4ET/blob/main/images/logo.png)"
      ],
      "metadata": {
        "id": "qV_KwmPv4yzq"
      }
    },
    {
      "cell_type": "code",
      "source": [
        "from IPython.display import Image, display\n",
        "\n",
        "# URL of your image on GitHub (raw link)\n",
        "url = \"https://raw.githubusercontent.com/MK316/Coding4ET/main/images/logo.png\"\n",
        "\n",
        "# Display the image directly from the URL\n",
        "display(Image(url=url))\n"
      ],
      "metadata": {
        "id": "2NdVzaF95Lx4"
      },
      "execution_count": null,
      "outputs": []
    }
  ]
}