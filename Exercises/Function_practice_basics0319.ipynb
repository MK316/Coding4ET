{
  "nbformat": 4,
  "nbformat_minor": 0,
  "metadata": {
    "colab": {
      "private_outputs": true,
      "provenance": [],
      "authorship_tag": "ABX9TyNxv1kMo8CavGrjDzuWm0iv",
      "include_colab_link": true
    },
    "kernelspec": {
      "name": "python3",
      "display_name": "Python 3"
    },
    "language_info": {
      "name": "python"
    }
  },
  "cells": [
    {
      "cell_type": "markdown",
      "metadata": {
        "id": "view-in-github",
        "colab_type": "text"
      },
      "source": [
        "<a href=\"https://colab.research.google.com/github/MK316/Coding4ET/blob/main/Exercises/Function_practice_basics0319.ipynb\" target=\"_parent\"><img src=\"https://colab.research.google.com/assets/colab-badge.svg\" alt=\"Open In Colab\"/></a>"
      ]
    },
    {
      "cell_type": "markdown",
      "source": [
        "# ❄️ Review: Built-in function practice & simple app using Gradio (Mar.19)"
      ],
      "metadata": {
        "id": "GZkM-_0X9EiX"
      }
    },
    {
      "cell_type": "markdown",
      "source": [
        "+ input() # Getting input from the user\n",
        "+ print()\n",
        "+ variable.split() # split text by space\n",
        "+ len() # Number of items"
      ],
      "metadata": {
        "id": "2XhMf0Dz4b3d"
      }
    },
    {
      "cell_type": "code",
      "source": [
        "# input()\n",
        "user_text = input()"
      ],
      "metadata": {
        "id": "478BJkt24ux9"
      },
      "execution_count": null,
      "outputs": []
    },
    {
      "cell_type": "code",
      "source": [
        "# print()\n",
        "print(user_text)"
      ],
      "metadata": {
        "id": "XhD3wRMx4x19"
      },
      "execution_count": null,
      "outputs": []
    },
    {
      "cell_type": "code",
      "source": [
        "# variable.split()\n",
        "user_text.split()"
      ],
      "metadata": {
        "id": "WnyuVCir4y_P"
      },
      "execution_count": null,
      "outputs": []
    },
    {
      "cell_type": "code",
      "source": [
        "# len()\n",
        "len(user_text.split())"
      ],
      "metadata": {
        "id": "ezT48G2340iH"
      },
      "execution_count": null,
      "outputs": []
    },
    {
      "cell_type": "code",
      "source": [
        "# input()\n",
        "\n",
        "print(\"You've typed:\", \"example\")"
      ],
      "metadata": {
        "id": "TsvPcexn5MuL"
      },
      "execution_count": null,
      "outputs": []
    },
    {
      "cell_type": "code",
      "source": [
        "print(\"You've typed:\", input())"
      ],
      "metadata": {
        "id": "xm-zrxO55ZrP"
      },
      "execution_count": null,
      "outputs": []
    },
    {
      "cell_type": "code",
      "source": [
        "len(\"Hello\")"
      ],
      "metadata": {
        "id": "9gtPcT5q5cx1"
      },
      "execution_count": null,
      "outputs": []
    },
    {
      "cell_type": "code",
      "source": [
        "mytext = \"Hello\"\n",
        "print(len(mytext))"
      ],
      "metadata": {
        "id": "Wt1v8gYl5i1p"
      },
      "execution_count": null,
      "outputs": []
    },
    {
      "cell_type": "markdown",
      "source": [
        "## F-string (Python 3.6)\n",
        "\n",
        "Format:\n",
        "\n",
        "```\n",
        "f\"text....{variable}\"\n",
        "```\n",
        "This F-function is\n",
        "```\n",
        "\"text...%s\"%{string variable}\n",
        "\"text...%d\"%{numberic variable}\n",
        "```"
      ],
      "metadata": {
        "id": "KEBtMdeC9UCW"
      }
    },
    {
      "cell_type": "code",
      "source": [
        "name = \"Alice\"\n",
        "print(\"The name is %s.\" %name)"
      ],
      "metadata": {
        "id": "E9N7gfBO9V_y"
      },
      "execution_count": null,
      "outputs": []
    },
    {
      "cell_type": "code",
      "source": [
        "age = 23\n",
        "print(\"The age is %d.\" %age)"
      ],
      "metadata": {
        "id": "89oRCMG8-YOf"
      },
      "execution_count": null,
      "outputs": []
    },
    {
      "cell_type": "code",
      "source": [
        "# using F-string\n",
        "\n",
        "print(f\"The name is {name} and I'm {age} years old.\")"
      ],
      "metadata": {
        "id": "ndkQD6-3-bNe"
      },
      "execution_count": null,
      "outputs": []
    },
    {
      "cell_type": "markdown",
      "source": [
        "# Practice Python function"
      ],
      "metadata": {
        "id": "wMFg-0bC54Uh"
      }
    },
    {
      "cell_type": "code",
      "execution_count": null,
      "metadata": {
        "id": "6TZOmNTu3w3X"
      },
      "outputs": [],
      "source": [
        "def count_words(sent):\n",
        "  sent_split = sent.split()\n",
        "  sent_len = len(sent_split)\n",
        "  return sent_len\n",
        "\n",
        "count_words(\"This is a test sentence.\")\n"
      ]
    },
    {
      "cell_type": "markdown",
      "source": [
        "# Using Gradio"
      ],
      "metadata": {
        "id": "hpU5P2776BgS"
      }
    },
    {
      "cell_type": "code",
      "source": [
        "# install library\n",
        "%%capture\n",
        "!pip install gradio"
      ],
      "metadata": {
        "id": "FNj1lKHW4QVs"
      },
      "execution_count": null,
      "outputs": []
    },
    {
      "cell_type": "markdown",
      "source": [
        "gr.Interface(fn, inputs, outputs)"
      ],
      "metadata": {
        "id": "u5FHelrR7WUP"
      }
    },
    {
      "cell_type": "code",
      "source": [
        "# App code\n",
        "import gradio as gr\n",
        "\n",
        "# Define function\n",
        "def count_words(sent):\n",
        "  sent_split = sent.split()\n",
        "  sent_len = len(sent_split)\n",
        "  return sent_len\n",
        "\n",
        "# Create the Gradio app\n",
        "app = gr.Interface(\n",
        "    fn=count_words,\n",
        "    inputs=gr.Textbox(),\n",
        "    outputs=gr.Textbox(),\n",
        ")\n",
        "\n",
        "# Run the application\n",
        "app.launch()"
      ],
      "metadata": {
        "id": "tLNWuiMV6Ej5"
      },
      "execution_count": null,
      "outputs": []
    },
    {
      "cell_type": "markdown",
      "source": [
        "## 😍 More code to improve the above applicatioin\n",
        "\n",
        "Compare the two codes (above and below)\n",
        "\n",
        "+ [sample text 1](https://raw.githubusercontent.com/MK316/Digital-Literacy-Class/refs/heads/main/data/SN2401.txt)\n",
        "+ [sample text 2](https://raw.githubusercontent.com/MK316/Digital-Literacy-Class/refs/heads/main/data/SN2402.txt)"
      ],
      "metadata": {
        "id": "s-xO51fw7HGQ"
      }
    },
    {
      "cell_type": "code",
      "source": [
        "import gradio as gr\n",
        "\n",
        "def count_words(sent):\n",
        "    \"\"\"Counts the number of words in a given sentence.\"\"\"\n",
        "    sent_split = sent.split()\n",
        "    sent_len = len(sent_split)\n",
        "    return sent_len\n",
        "\n",
        "# Create the Gradio app\n",
        "app = gr.Interface(\n",
        "    fn=count_words,\n",
        "    inputs=gr.Textbox(label=\"Enter a sentence\", placeholder=\"Type here...\"),\n",
        "    outputs=gr.Textbox(label=\"Word Count\", interactive=False),\n",
        "    title=\"Word Count Tool\",\n",
        "    description=\"This app counts the number of words in the sentence you enter.\"\n",
        ")\n",
        "\n",
        "# Run the app\n",
        "app.launch()\n"
      ],
      "metadata": {
        "id": "YiF2AT_D7Lud"
      },
      "execution_count": null,
      "outputs": []
    },
    {
      "cell_type": "markdown",
      "source": [
        "---\n",
        "The End"
      ],
      "metadata": {
        "id": "xxlfUWxE8gKZ"
      }
    }
  ]
}